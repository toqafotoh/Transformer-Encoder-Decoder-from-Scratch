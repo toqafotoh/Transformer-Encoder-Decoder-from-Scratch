{
 "cells": [
  {
   "cell_type": "markdown",
   "id": "f899d96c",
   "metadata": {
    "id": "fN7pJARIt9uK",
    "papermill": {
     "duration": 0.008136,
     "end_time": "2025-04-29T16:17:04.943058",
     "exception": false,
     "start_time": "2025-04-29T16:17:04.934922",
     "status": "completed"
    },
    "tags": []
   },
   "source": [
    "# Loading the libraries"
   ]
  },
  {
   "cell_type": "code",
   "execution_count": 2,
   "id": "5c7e8bd2",
   "metadata": {
    "execution": {
     "iopub.execute_input": "2025-05-02T20:08:11.810057Z",
     "iopub.status.busy": "2025-05-02T20:08:11.809826Z",
     "iopub.status.idle": "2025-05-02T20:08:15.900548Z",
     "shell.execute_reply": "2025-05-02T20:08:15.899895Z",
     "shell.execute_reply.started": "2025-05-02T20:08:11.810041Z"
    },
    "papermill": {
     "duration": 6.593709,
     "end_time": "2025-04-29T16:17:11.544330",
     "exception": false,
     "start_time": "2025-04-29T16:17:04.950621",
     "status": "completed"
    },
    "tags": [],
    "trusted": true
   },
   "outputs": [
    {
     "name": "stdout",
     "output_type": "stream",
     "text": [
      "Collecting sacrebleu\n",
      "  Downloading sacrebleu-2.5.1-py3-none-any.whl.metadata (51 kB)\n",
      "\u001b[2K     \u001b[90m━━━━━━━━━━━━━━━━━━━━━━━━━━━━━━━━━━━━━━━━\u001b[0m \u001b[32m51.8/51.8 kB\u001b[0m \u001b[31m2.8 MB/s\u001b[0m eta \u001b[36m0:00:00\u001b[0m\n",
      "\u001b[?25hCollecting portalocker (from sacrebleu)\n",
      "  Downloading portalocker-3.1.1-py3-none-any.whl.metadata (8.6 kB)\n",
      "Requirement already satisfied: regex in /usr/local/lib/python3.11/dist-packages (from sacrebleu) (2024.11.6)\n",
      "Requirement already satisfied: tabulate>=0.8.9 in /usr/local/lib/python3.11/dist-packages (from sacrebleu) (0.9.0)\n",
      "Requirement already satisfied: numpy>=1.17 in /usr/local/lib/python3.11/dist-packages (from sacrebleu) (1.26.4)\n",
      "Requirement already satisfied: colorama in /usr/local/lib/python3.11/dist-packages (from sacrebleu) (0.4.6)\n",
      "Requirement already satisfied: lxml in /usr/local/lib/python3.11/dist-packages (from sacrebleu) (5.3.1)\n",
      "Requirement already satisfied: mkl_fft in /usr/local/lib/python3.11/dist-packages (from numpy>=1.17->sacrebleu) (1.3.8)\n",
      "Requirement already satisfied: mkl_random in /usr/local/lib/python3.11/dist-packages (from numpy>=1.17->sacrebleu) (1.2.4)\n",
      "Requirement already satisfied: mkl_umath in /usr/local/lib/python3.11/dist-packages (from numpy>=1.17->sacrebleu) (0.1.1)\n",
      "Requirement already satisfied: mkl in /usr/local/lib/python3.11/dist-packages (from numpy>=1.17->sacrebleu) (2025.1.0)\n",
      "Requirement already satisfied: tbb4py in /usr/local/lib/python3.11/dist-packages (from numpy>=1.17->sacrebleu) (2022.1.0)\n",
      "Requirement already satisfied: mkl-service in /usr/local/lib/python3.11/dist-packages (from numpy>=1.17->sacrebleu) (2.4.1)\n",
      "Requirement already satisfied: intel-openmp<2026,>=2024 in /usr/local/lib/python3.11/dist-packages (from mkl->numpy>=1.17->sacrebleu) (2024.2.0)\n",
      "Requirement already satisfied: tbb==2022.* in /usr/local/lib/python3.11/dist-packages (from mkl->numpy>=1.17->sacrebleu) (2022.1.0)\n",
      "Requirement already satisfied: tcmlib==1.* in /usr/local/lib/python3.11/dist-packages (from tbb==2022.*->mkl->numpy>=1.17->sacrebleu) (1.2.0)\n",
      "Requirement already satisfied: intel-cmplr-lib-rt in /usr/local/lib/python3.11/dist-packages (from mkl_umath->numpy>=1.17->sacrebleu) (2024.2.0)\n",
      "Requirement already satisfied: intel-cmplr-lib-ur==2024.2.0 in /usr/local/lib/python3.11/dist-packages (from intel-openmp<2026,>=2024->mkl->numpy>=1.17->sacrebleu) (2024.2.0)\n",
      "Downloading sacrebleu-2.5.1-py3-none-any.whl (104 kB)\n",
      "\u001b[2K   \u001b[90m━━━━━━━━━━━━━━━━━━━━━━━━━━━━━━━━━━━━━━━━\u001b[0m \u001b[32m104.1/104.1 kB\u001b[0m \u001b[31m5.4 MB/s\u001b[0m eta \u001b[36m0:00:00\u001b[0m\n",
      "\u001b[?25hDownloading portalocker-3.1.1-py3-none-any.whl (19 kB)\n",
      "Installing collected packages: portalocker, sacrebleu\n",
      "Successfully installed portalocker-3.1.1 sacrebleu-2.5.1\n"
     ]
    }
   ],
   "source": [
    "!pip install sacrebleu"
   ]
  },
  {
   "cell_type": "code",
   "execution_count": 3,
   "id": "40d04fa9",
   "metadata": {
    "execution": {
     "iopub.execute_input": "2025-05-02T20:08:15.902305Z",
     "iopub.status.busy": "2025-05-02T20:08:15.902100Z",
     "iopub.status.idle": "2025-05-02T20:08:30.546764Z",
     "shell.execute_reply": "2025-05-02T20:08:30.545995Z",
     "shell.execute_reply.started": "2025-05-02T20:08:15.902286Z"
    },
    "executionInfo": {
     "elapsed": 1499,
     "status": "ok",
     "timestamp": 1604164306003,
     "user": {
      "displayName": "Eduardo Muñoz Sala",
      "photoUrl": "https://lh3.googleusercontent.com/a-/AOh14Gi9gTFB7xfdxQyNiKRUzqE5vwb9WQjQuMtQz5F16w=s64",
      "userId": "13317831924226771761"
     },
     "user_tz": -60
    },
    "id": "ZbcvtPlp3YWu",
    "papermill": {
     "duration": 26.596032,
     "end_time": "2025-04-29T16:17:38.148203",
     "exception": false,
     "start_time": "2025-04-29T16:17:11.552171",
     "status": "completed"
    },
    "tags": [],
    "trusted": true
   },
   "outputs": [
    {
     "name": "stderr",
     "output_type": "stream",
     "text": [
      "2025-05-02 20:08:19.042484: E external/local_xla/xla/stream_executor/cuda/cuda_fft.cc:477] Unable to register cuFFT factory: Attempting to register factory for plugin cuFFT when one has already been registered\n",
      "WARNING: All log messages before absl::InitializeLog() is called are written to STDERR\n",
      "E0000 00:00:1746216499.240550      54 cuda_dnn.cc:8310] Unable to register cuDNN factory: Attempting to register factory for plugin cuDNN when one has already been registered\n",
      "E0000 00:00:1746216499.302193      54 cuda_blas.cc:1418] Unable to register cuBLAS factory: Attempting to register factory for plugin cuBLAS when one has already been registered\n"
     ]
    }
   ],
   "source": [
    "import math\n",
    "import os\n",
    "import gc\n",
    "import time\n",
    "import re\n",
    "import pandas as pd\n",
    "import numpy as np\n",
    "import matplotlib.pyplot as plt\n",
    "import math\n",
    "import os\n",
    "import gc\n",
    "import time\n",
    "import re\n",
    "import pandas as pd\n",
    "import numpy as np\n",
    "import matplotlib.pyplot as plt\n",
    "from datasets import load_dataset\n",
    "import tensorflow as tf\n",
    "import numpy as np\n",
    "import pandas as pd\n",
    "import urllib.request\n",
    "import re\n",
    "from tensorflow.keras.preprocessing.text import Tokenizer\n",
    "from tensorflow.keras.preprocessing.sequence import pad_sequences\n",
    "from tensorflow.keras.layers import Input, LSTM, Dense, Embedding, Attention, Layer, Dropout\n",
    "from tensorflow.keras.models import Model\n",
    "from collections import Counter\n",
    "import tensorflow as tf\n",
    "from tensorflow.keras import layers\n",
    "from tensorflow.keras import backend as K\n",
    "import tensorflow_datasets as tfds\n",
    "from tensorflow.keras.preprocessing.text import Tokenizer\n",
    "from tensorflow.keras.preprocessing.sequence import pad_sequences\n",
    "import math\n",
    "import os\n",
    "import gc\n",
    "import time\n",
    "import re\n",
    "import pandas as pd\n",
    "import numpy as np\n",
    "import matplotlib.pyplot as plt\n",
    "import tensorflow as tf\n",
    "from tensorflow.keras import layers\n",
    "from tensorflow.keras import backend as K\n",
    "import tensorflow_datasets as tfds\n",
    "from tensorflow.keras.preprocessing.text import Tokenizer\n",
    "from tensorflow.keras.preprocessing.sequence import pad_sequences\n",
    "from tensorflow.keras import layers\n",
    "from tensorflow.keras import backend as K\n",
    "import tensorflow_datasets as tfds\n",
    "from tensorflow.keras.preprocessing.text import Tokenizer\n",
    "from tensorflow.keras.preprocessing.sequence import pad_sequences\n",
    "from datasets import load_dataset\n",
    "\n",
    "INPUT_COLUMN = 'input'\n",
    "TARGET_COLUMN = 'target'"
   ]
  },
  {
   "cell_type": "code",
   "execution_count": 4,
   "id": "7d83445e",
   "metadata": {
    "execution": {
     "iopub.execute_input": "2025-05-02T20:08:30.548399Z",
     "iopub.status.busy": "2025-05-02T20:08:30.547972Z",
     "iopub.status.idle": "2025-05-02T20:08:30.552576Z",
     "shell.execute_reply": "2025-05-02T20:08:30.551748Z",
     "shell.execute_reply.started": "2025-05-02T20:08:30.548381Z"
    },
    "papermill": {
     "duration": 0.012443,
     "end_time": "2025-04-29T16:17:38.168583",
     "exception": false,
     "start_time": "2025-04-29T16:17:38.156140",
     "status": "completed"
    },
    "tags": [],
    "trusted": true
   },
   "outputs": [],
   "source": [
    "# Parameters for our model\n",
    "INPUT_COLUMN = 'input'\n",
    "TARGET_COLUMN = 'target'\n",
    "NUM_SAMPLES = 80000 #40000\n",
    "MAX_VOCAB_SIZE = 2**14\n",
    "\n",
    "BATCH_SIZE = 64  # Batch size for training.\n",
    "EPOCHS = 30  # Number of epochs to train for.\n",
    "MAX_LENGTH = 15"
   ]
  },
  {
   "cell_type": "code",
   "execution_count": 5,
   "id": "a1bb2cb1",
   "metadata": {
    "execution": {
     "iopub.execute_input": "2025-05-02T20:08:30.553780Z",
     "iopub.status.busy": "2025-05-02T20:08:30.553508Z",
     "iopub.status.idle": "2025-05-02T20:08:31.013188Z",
     "shell.execute_reply": "2025-05-02T20:08:31.012446Z",
     "shell.execute_reply.started": "2025-05-02T20:08:30.553758Z"
    },
    "executionInfo": {
     "elapsed": 984,
     "status": "ok",
     "timestamp": 1604164327404,
     "user": {
      "displayName": "Eduardo Muñoz Sala",
      "photoUrl": "https://lh3.googleusercontent.com/a-/AOh14Gi9gTFB7xfdxQyNiKRUzqE5vwb9WQjQuMtQz5F16w=s64",
      "userId": "13317831924226771761"
     },
     "user_tz": -60
    },
    "id": "rTr3QS6_5tBO",
    "papermill": {
     "duration": 0.310891,
     "end_time": "2025-04-29T16:17:38.486888",
     "exception": false,
     "start_time": "2025-04-29T16:17:38.175997",
     "status": "completed"
    },
    "tags": [],
    "trusted": true
   },
   "outputs": [],
   "source": [
    "#Create the Checkpoint \n",
    "# Create a directory path for checkpoints\n",
    "checkpoint_path = \"./checkpoints/train\"\n",
    "\n",
    "url = 'https://raw.githubusercontent.com/SamirMoustafa/nmt-with-attention-for-ar-to-en/master/ara_.txt'\n",
    "dataset = pd.read_csv(url, delimiter='\\t', header=None, names=[TARGET_COLUMN ,INPUT_COLUMN])"
   ]
  },
  {
   "cell_type": "code",
   "execution_count": 6,
   "id": "1d25c909",
   "metadata": {
    "execution": {
     "iopub.execute_input": "2025-05-02T20:08:36.597630Z",
     "iopub.status.busy": "2025-05-02T20:08:36.596840Z",
     "iopub.status.idle": "2025-05-02T20:08:36.601717Z",
     "shell.execute_reply": "2025-05-02T20:08:36.601207Z",
     "shell.execute_reply.started": "2025-05-02T20:08:36.597604Z"
    },
    "executionInfo": {
     "elapsed": 907,
     "status": "ok",
     "timestamp": 1604164333039,
     "user": {
      "displayName": "Eduardo Muñoz Sala",
      "photoUrl": "https://lh3.googleusercontent.com/a-/AOh14Gi9gTFB7xfdxQyNiKRUzqE5vwb9WQjQuMtQz5F16w=s64",
      "userId": "13317831924226771761"
     },
     "user_tz": -60
    },
    "id": "xnomPENWc3gD",
    "papermill": {
     "duration": 0.015403,
     "end_time": "2025-04-29T16:17:38.511402",
     "exception": false,
     "start_time": "2025-04-29T16:17:38.495999",
     "status": "completed"
    },
    "tags": [],
    "trusted": true
   },
   "outputs": [],
   "source": [
    "def preprocess_text_nonbreaking(corpus, non_breaking_prefixes):\n",
    "  corpus_cleaned = corpus\n",
    "  # Add the string $$$ before the non breaking prefixes\n",
    "  # To avoid remove dots from some words\n",
    "  for prefix in non_breaking_prefixes:\n",
    "    corpus_cleaned = corpus_cleaned.replace(prefix, prefix + '$$$')\n",
    "  # Remove dots not at the end of a sentence\n",
    "  corpus_cleaned = re.sub(r\"\\.(?=[0-9]|[a-z]|[A-Z])\", \".$$$\", corpus_cleaned)\n",
    "  # Remove the $$$ mark\n",
    "  corpus_cleaned = re.sub(r\"\\.\\$\\$\\$\", '', corpus_cleaned)\n",
    "  # Rmove multiple white spaces\n",
    "  corpus_cleaned = re.sub(r\"  +\", \" \", corpus_cleaned)\n",
    "\n",
    "  return corpus_cleaned\n"
   ]
  },
  {
   "cell_type": "markdown",
   "id": "5f740323",
   "metadata": {
    "id": "bPlOT-2mlw0r",
    "papermill": {
     "duration": 0.013114,
     "end_time": "2025-04-29T16:17:38.535308",
     "exception": false,
     "start_time": "2025-04-29T16:17:38.522194",
     "status": "completed"
    },
    "tags": []
   },
   "source": [
    "## Loading the dataset"
   ]
  },
  {
   "cell_type": "code",
   "execution_count": 7,
   "id": "13a02359",
   "metadata": {
    "execution": {
     "iopub.execute_input": "2025-05-02T20:08:39.217419Z",
     "iopub.status.busy": "2025-05-02T20:08:39.217150Z",
     "iopub.status.idle": "2025-05-02T20:08:39.234948Z",
     "shell.execute_reply": "2025-05-02T20:08:39.234206Z",
     "shell.execute_reply.started": "2025-05-02T20:08:39.217400Z"
    },
    "papermill": {
     "duration": 0.039049,
     "end_time": "2025-04-29T16:17:38.587720",
     "exception": false,
     "start_time": "2025-04-29T16:17:38.548671",
     "status": "completed"
    },
    "tags": [],
    "trusted": true
   },
   "outputs": [
    {
     "name": "stdout",
     "output_type": "stream",
     "text": [
      "                                                  target  \\\n",
      "0                                                    Hi.   \n",
      "1                                                   Run!   \n",
      "2                                                  Help!   \n",
      "3                                                  Jump!   \n",
      "4                                                  Stop!   \n",
      "...                                                  ...   \n",
      "10737  The mobile phone you have dialed is either swi...   \n",
      "10738  A man touched down on the moon. A wall came do...   \n",
      "10739  Make a good translation of the sentence that y...   \n",
      "10740  Ladies and gentlemen, please stand for the nat...   \n",
      "10741  There are mothers and fathers who will lie awa...   \n",
      "\n",
      "                                                   input  \n",
      "0                                                مرحبًا.  \n",
      "1                                                  اركض!  \n",
      "2                                                النجدة!  \n",
      "3                                                  اقفز!  \n",
      "4                                                    قف!  \n",
      "...                                                  ...  \n",
      "10737  الهاتف المتحرك الذي طلبته مغلق أو خارج نطاق ال...  \n",
      "10738  هبط إنسان على سطح القمر، وأنهار حائط في برلين،...  \n",
      "10739  ترجم الجملة التي أنت بصدد ترجمتها ترجمةً جيدةً...  \n",
      "10740  سيداتي و سادتي ، رجاءً قفوا للنشيد الوطني للات...  \n",
      "10741  وهناك أمهات وآباء سيظلون مستيقظين بعد أن ينام ...  \n",
      "\n",
      "[10742 rows x 2 columns]\n"
     ]
    }
   ],
   "source": [
    "print(dataset)"
   ]
  },
  {
   "cell_type": "code",
   "execution_count": 8,
   "id": "365a6cdf",
   "metadata": {
    "execution": {
     "iopub.execute_input": "2025-05-02T20:08:39.909965Z",
     "iopub.status.busy": "2025-05-02T20:08:39.909312Z",
     "iopub.status.idle": "2025-05-02T20:08:39.915814Z",
     "shell.execute_reply": "2025-05-02T20:08:39.914988Z",
     "shell.execute_reply.started": "2025-05-02T20:08:39.909933Z"
    },
    "papermill": {
     "duration": 0.014922,
     "end_time": "2025-04-29T16:17:38.610176",
     "exception": false,
     "start_time": "2025-04-29T16:17:38.595254",
     "status": "completed"
    },
    "tags": [],
    "trusted": true
   },
   "outputs": [],
   "source": [
    "df = pd.DataFrame({\n",
    "    INPUT_COLUMN:  dataset[INPUT_COLUMN],  # English sentences\n",
    "    TARGET_COLUMN: dataset[TARGET_COLUMN]  # Arabic sentences\n",
    "})"
   ]
  },
  {
   "cell_type": "code",
   "execution_count": 9,
   "id": "426409e6",
   "metadata": {
    "execution": {
     "iopub.execute_input": "2025-05-02T20:08:42.290144Z",
     "iopub.status.busy": "2025-05-02T20:08:42.289618Z",
     "iopub.status.idle": "2025-05-02T20:08:42.293706Z",
     "shell.execute_reply": "2025-05-02T20:08:42.293140Z",
     "shell.execute_reply.started": "2025-05-02T20:08:42.290120Z"
    },
    "papermill": {
     "duration": 0.014971,
     "end_time": "2025-04-29T16:17:38.634596",
     "exception": false,
     "start_time": "2025-04-29T16:17:38.619625",
     "status": "completed"
    },
    "tags": [],
    "trusted": true
   },
   "outputs": [],
   "source": [
    "df = df.iloc[:NUM_SAMPLES]"
   ]
  },
  {
   "cell_type": "code",
   "execution_count": 10,
   "id": "59deeff4",
   "metadata": {
    "execution": {
     "iopub.execute_input": "2025-05-02T20:08:43.361183Z",
     "iopub.status.busy": "2025-05-02T20:08:43.360913Z",
     "iopub.status.idle": "2025-05-02T20:08:43.365427Z",
     "shell.execute_reply": "2025-05-02T20:08:43.364861Z",
     "shell.execute_reply.started": "2025-05-02T20:08:43.361163Z"
    },
    "executionInfo": {
     "elapsed": 2367,
     "status": "ok",
     "timestamp": 1604164376760,
     "user": {
      "displayName": "Eduardo Muñoz Sala",
      "photoUrl": "https://lh3.googleusercontent.com/a-/AOh14Gi9gTFB7xfdxQyNiKRUzqE5vwb9WQjQuMtQz5F16w=s64",
      "userId": "13317831924226771761"
     },
     "user_tz": -60
    },
    "id": "fjKW8DnObtvl",
    "papermill": {
     "duration": 0.012983,
     "end_time": "2025-04-29T16:17:38.655331",
     "exception": false,
     "start_time": "2025-04-29T16:17:38.642348",
     "status": "completed"
    },
    "tags": [],
    "trusted": true
   },
   "outputs": [],
   "source": [
    "input_data = df[INPUT_COLUMN].tolist()  \n",
    "target_data = df[TARGET_COLUMN].tolist() "
   ]
  },
  {
   "cell_type": "code",
   "execution_count": 11,
   "id": "f941539f",
   "metadata": {
    "execution": {
     "iopub.execute_input": "2025-05-02T20:08:46.948648Z",
     "iopub.status.busy": "2025-05-02T20:08:46.948179Z",
     "iopub.status.idle": "2025-05-02T20:08:46.952928Z",
     "shell.execute_reply": "2025-05-02T20:08:46.952335Z",
     "shell.execute_reply.started": "2025-05-02T20:08:46.948627Z"
    },
    "executionInfo": {
     "elapsed": 3604,
     "status": "ok",
     "timestamp": 1604164410474,
     "user": {
      "displayName": "Eduardo Muñoz Sala",
      "photoUrl": "https://lh3.googleusercontent.com/a-/AOh14Gi9gTFB7xfdxQyNiKRUzqE5vwb9WQjQuMtQz5F16w=s64",
      "userId": "13317831924226771761"
     },
     "user_tz": -60
    },
    "id": "0G8Wa9FBdy5Y",
    "outputId": "b33db2f5-5781-4eb6-bb72-5af73d1d823e",
    "papermill": {
     "duration": 0.01365,
     "end_time": "2025-04-29T16:17:38.676399",
     "exception": false,
     "start_time": "2025-04-29T16:17:38.662749",
     "status": "completed"
    },
    "tags": [],
    "trusted": true
   },
   "outputs": [
    {
     "name": "stdout",
     "output_type": "stream",
     "text": [
      "Number of sentences: 10742\n",
      "['مرحبًا.', 'اركض!', 'النجدة!', 'اقفز!', 'قف!']\n",
      "['Hi.', 'Run!', 'Help!', 'Jump!', 'Stop!']\n"
     ]
    }
   ],
   "source": [
    "# Print sample sentences\n",
    "print('Number of sentences:', len(input_data))\n",
    "print(input_data[:5])  # Sample English sentences\n",
    "print(target_data[:5])  # Sample Arabic translations"
   ]
  },
  {
   "cell_type": "code",
   "execution_count": 12,
   "id": "c84fe37e",
   "metadata": {
    "execution": {
     "iopub.execute_input": "2025-05-02T20:08:48.639210Z",
     "iopub.status.busy": "2025-05-02T20:08:48.638924Z",
     "iopub.status.idle": "2025-05-02T20:08:48.869485Z",
     "shell.execute_reply": "2025-05-02T20:08:48.868738Z",
     "shell.execute_reply.started": "2025-05-02T20:08:48.639188Z"
    },
    "executionInfo": {
     "elapsed": 1072,
     "status": "ok",
     "timestamp": 1604164414243,
     "user": {
      "displayName": "Eduardo Muñoz Sala",
      "photoUrl": "https://lh3.googleusercontent.com/a-/AOh14Gi9gTFB7xfdxQyNiKRUzqE5vwb9WQjQuMtQz5F16w=s64",
      "userId": "13317831924226771761"
     },
     "user_tz": -60
    },
    "id": "TMAFFdpIyNZd",
    "outputId": "db773f7b-1723-47a4-f7a5-3f3b4572a8a6",
    "papermill": {
     "duration": 0.29085,
     "end_time": "2025-04-29T16:17:38.974721",
     "exception": false,
     "start_time": "2025-04-29T16:17:38.683871",
     "status": "completed"
    },
    "tags": [],
    "trusted": true
   },
   "outputs": [
    {
     "data": {
      "text/plain": [
       "5"
      ]
     },
     "execution_count": 12,
     "metadata": {},
     "output_type": "execute_result"
    }
   ],
   "source": [
    "#Delete the dataframe and release the memory (if it is possible)\n",
    "del df\n",
    "gc.collect()"
   ]
  },
  {
   "cell_type": "code",
   "execution_count": 13,
   "id": "25010ee6",
   "metadata": {
    "execution": {
     "iopub.execute_input": "2025-05-02T20:08:49.349289Z",
     "iopub.status.busy": "2025-05-02T20:08:49.348802Z",
     "iopub.status.idle": "2025-05-02T20:08:49.354231Z",
     "shell.execute_reply": "2025-05-02T20:08:49.353559Z",
     "shell.execute_reply.started": "2025-05-02T20:08:49.349269Z"
    },
    "executionInfo": {
     "elapsed": 909,
     "status": "ok",
     "timestamp": 1604164418564,
     "user": {
      "displayName": "Eduardo Muñoz Sala",
      "photoUrl": "https://lh3.googleusercontent.com/a-/AOh14Gi9gTFB7xfdxQyNiKRUzqE5vwb9WQjQuMtQz5F16w=s64",
      "userId": "13317831924226771761"
     },
     "user_tz": -60
    },
    "id": "khsaxokjofHr",
    "papermill": {
     "duration": 0.018498,
     "end_time": "2025-04-29T16:17:39.001570",
     "exception": false,
     "start_time": "2025-04-29T16:17:38.983072",
     "status": "completed"
    },
    "tags": [],
    "trusted": true
   },
   "outputs": [],
   "source": [
    "def subword_tokenize(corpus, vocab_size, max_length):\n",
    "  # Create the vocabulary using Subword tokenization\n",
    "  tokenizer_corpus = tfds.deprecated.text.SubwordTextEncoder.build_from_corpus(\n",
    "    corpus, target_vocab_size=vocab_size)\n",
    "  # Get the final vocab size, adding the eos and sos tokens\n",
    "  num_words = tokenizer_corpus.vocab_size + 2\n",
    "  # Set eos and sos token\n",
    "  sos_token = [num_words-2]\n",
    "  eos_token = [num_words-1]\n",
    "  # Tokenize the corpus\n",
    "  sentences = [sos_token + tokenizer_corpus.encode(sentence) + eos_token\n",
    "          for sentence in corpus]\n",
    "  # Identify the index of the sentences longer than max length\n",
    "  idx_to_remove = [count for count, sent in enumerate(sentences)\n",
    "                 if len(sent) > max_length]\n",
    "  #Pad the sentences\n",
    "  sentences = tf.keras.preprocessing.sequence.pad_sequences(sentences,\n",
    "                                                       value=0,\n",
    "                                                       padding='post',\n",
    "                                                       maxlen=max_length)\n",
    "  \n",
    "  return sentences, tokenizer_corpus, num_words, sos_token, eos_token, idx_to_remove\n"
   ]
  },
  {
   "cell_type": "code",
   "execution_count": 14,
   "id": "3014ce60",
   "metadata": {
    "execution": {
     "iopub.execute_input": "2025-05-02T20:08:51.064412Z",
     "iopub.status.busy": "2025-05-02T20:08:51.064125Z",
     "iopub.status.idle": "2025-05-02T20:09:01.670771Z",
     "shell.execute_reply": "2025-05-02T20:09:01.669969Z",
     "shell.execute_reply.started": "2025-05-02T20:08:51.064391Z"
    },
    "executionInfo": {
     "elapsed": 54005,
     "status": "ok",
     "timestamp": 1604164475693,
     "user": {
      "displayName": "Eduardo Muñoz Sala",
      "photoUrl": "https://lh3.googleusercontent.com/a-/AOh14Gi9gTFB7xfdxQyNiKRUzqE5vwb9WQjQuMtQz5F16w=s64",
      "userId": "13317831924226771761"
     },
     "user_tz": -60
    },
    "id": "onrwROJrquij",
    "papermill": {
     "duration": 10.735609,
     "end_time": "2025-04-29T16:17:49.750824",
     "exception": false,
     "start_time": "2025-04-29T16:17:39.015215",
     "status": "completed"
    },
    "tags": [],
    "trusted": true
   },
   "outputs": [],
   "source": [
    "# Tokenize and pad the input sequences\n",
    "encoder_inputs, tokenizer_inputs, num_words_inputs, sos_token_input, eos_token_input, del_idx_inputs= subword_tokenize(input_data, \n",
    "                                                                                                        MAX_VOCAB_SIZE, MAX_LENGTH)\n",
    "# Tokenize and pad the outputs sequences\n",
    "decoder_outputs, tokenizer_outputs, num_words_output, sos_token_output, eos_token_output, del_idx_outputs = subword_tokenize(target_data, \n",
    "                                                                                                        MAX_VOCAB_SIZE, MAX_LENGTH)"
   ]
  },
  {
   "cell_type": "code",
   "execution_count": 15,
   "id": "3b0e46c0",
   "metadata": {
    "execution": {
     "iopub.execute_input": "2025-05-02T20:09:01.672188Z",
     "iopub.status.busy": "2025-05-02T20:09:01.671926Z",
     "iopub.status.idle": "2025-05-02T20:09:01.677236Z",
     "shell.execute_reply": "2025-05-02T20:09:01.676661Z",
     "shell.execute_reply.started": "2025-05-02T20:09:01.672165Z"
    },
    "executionInfo": {
     "elapsed": 1000,
     "status": "ok",
     "timestamp": 1604164485208,
     "user": {
      "displayName": "Eduardo Muñoz Sala",
      "photoUrl": "https://lh3.googleusercontent.com/a-/AOh14Gi9gTFB7xfdxQyNiKRUzqE5vwb9WQjQuMtQz5F16w=s64",
      "userId": "13317831924226771761"
     },
     "user_tz": -60
    },
    "id": "gYtibBaqsAxA",
    "outputId": "abff64f4-e25b-4531-f148-cf7c39cfec94",
    "papermill": {
     "duration": 0.014027,
     "end_time": "2025-04-29T16:17:49.773207",
     "exception": false,
     "start_time": "2025-04-29T16:17:49.759180",
     "status": "completed"
    },
    "tags": [],
    "trusted": true
   },
   "outputs": [
    {
     "name": "stdout",
     "output_type": "stream",
     "text": [
      "[[12672  6118    21    31 12462 12673     0     0     0     0     0     0\n",
      "      0     0     0]\n",
      " [12672 11409 12449 12673     0     0     0     0     0     0     0     0\n",
      "      0     0     0]\n",
      " [12672  1207 12449 12673     0     0     0     0     0     0     0     0\n",
      "      0     0     0]\n",
      " [12672 11287 12449 12673     0     0     0     0     0     0     0     0\n",
      "      0     0     0]\n",
      " [12672  3381 12449 12673     0     0     0     0     0     0     0     0\n",
      "      0     0     0]] [12672] [12673]\n",
      "[[6010 1144 5800 6011    0    0    0    0    0    0    0    0    0    0\n",
      "     0]\n",
      " [6010 5408 5787 6011    0    0    0    0    0    0    0    0    0    0\n",
      "     0]\n",
      " [6010 5543 5787 6011    0    0    0    0    0    0    0    0    0    0\n",
      "     0]\n",
      " [6010 5521 5787 6011    0    0    0    0    0    0    0    0    0    0\n",
      "     0]\n",
      " [6010 3101 5787 6011    0    0    0    0    0    0    0    0    0    0\n",
      "     0]] [6010] [6011]\n"
     ]
    }
   ],
   "source": [
    "# Check the tokenize function\n",
    "print(encoder_inputs[:5], sos_token_input, eos_token_input)\n",
    "print(decoder_outputs[:5], sos_token_output, eos_token_output)"
   ]
  },
  {
   "cell_type": "code",
   "execution_count": 16,
   "id": "50c3bb2c",
   "metadata": {
    "execution": {
     "iopub.execute_input": "2025-05-02T20:09:06.737491Z",
     "iopub.status.busy": "2025-05-02T20:09:06.736969Z",
     "iopub.status.idle": "2025-05-02T20:09:06.741415Z",
     "shell.execute_reply": "2025-05-02T20:09:06.740534Z",
     "shell.execute_reply.started": "2025-05-02T20:09:06.737468Z"
    },
    "executionInfo": {
     "elapsed": 987,
     "status": "ok",
     "timestamp": 1604164491249,
     "user": {
      "displayName": "Eduardo Muñoz Sala",
      "photoUrl": "https://lh3.googleusercontent.com/a-/AOh14Gi9gTFB7xfdxQyNiKRUzqE5vwb9WQjQuMtQz5F16w=s64",
      "userId": "13317831924226771761"
     },
     "user_tz": -60
    },
    "id": "VF4l2stYEu2l",
    "outputId": "52b708b7-415b-4a46-a1f4-83673abc2938",
    "papermill": {
     "duration": 0.013251,
     "end_time": "2025-04-29T16:17:49.794040",
     "exception": false,
     "start_time": "2025-04-29T16:17:49.780789",
     "status": "completed"
    },
    "tags": [],
    "trusted": true
   },
   "outputs": [
    {
     "name": "stdout",
     "output_type": "stream",
     "text": [
      "Size of Input Vocabulary:  12674\n",
      "Size of Output Vocabulary:  6012\n"
     ]
    }
   ],
   "source": [
    "print('Size of Input Vocabulary: ', num_words_inputs)\n",
    "print('Size of Output Vocabulary: ', num_words_output)"
   ]
  },
  {
   "cell_type": "code",
   "execution_count": 17,
   "id": "ad3b64b8",
   "metadata": {
    "execution": {
     "iopub.execute_input": "2025-05-02T20:09:09.621288Z",
     "iopub.status.busy": "2025-05-02T20:09:09.621018Z",
     "iopub.status.idle": "2025-05-02T20:09:10.828503Z",
     "shell.execute_reply": "2025-05-02T20:09:10.827753Z",
     "shell.execute_reply.started": "2025-05-02T20:09:09.621268Z"
    },
    "executionInfo": {
     "elapsed": 6333,
     "status": "ok",
     "timestamp": 1604164511134,
     "user": {
      "displayName": "Eduardo Muñoz Sala",
      "photoUrl": "https://lh3.googleusercontent.com/a-/AOh14Gi9gTFB7xfdxQyNiKRUzqE5vwb9WQjQuMtQz5F16w=s64",
      "userId": "13317831924226771761"
     },
     "user_tz": -60
    },
    "id": "wFxMp3TOIYff",
    "papermill": {
     "duration": 2.717113,
     "end_time": "2025-04-29T16:17:52.563540",
     "exception": false,
     "start_time": "2025-04-29T16:17:49.846427",
     "status": "completed"
    },
    "tags": [],
    "trusted": true
   },
   "outputs": [
    {
     "name": "stderr",
     "output_type": "stream",
     "text": [
      "I0000 00:00:1746216550.787547      54 gpu_device.cc:2022] Created device /job:localhost/replica:0/task:0/device:GPU:0 with 13942 MB memory:  -> device: 0, name: Tesla T4, pci bus id: 0000:00:04.0, compute capability: 7.5\n",
      "I0000 00:00:1746216550.788150      54 gpu_device.cc:2022] Created device /job:localhost/replica:0/task:0/device:GPU:1 with 13942 MB memory:  -> device: 1, name: Tesla T4, pci bus id: 0000:00:05.0, compute capability: 7.5\n"
     ]
    }
   ],
   "source": [
    "# Define a dataset \n",
    "dataset = tf.data.Dataset.from_tensor_slices(\n",
    "    (encoder_inputs, decoder_outputs))\n",
    "dataset = dataset.shuffle(len(input_data), reshuffle_each_iteration=True).batch(\n",
    "    BATCH_SIZE, drop_remainder=True)\n",
    "\n",
    "dataset = dataset.prefetch(tf.data.experimental.AUTOTUNE)"
   ]
  },
  {
   "cell_type": "markdown",
   "id": "212c9ab5",
   "metadata": {
    "id": "ycT0YqydRcUd",
    "papermill": {
     "duration": 0.007744,
     "end_time": "2025-04-29T16:17:52.579372",
     "exception": false,
     "start_time": "2025-04-29T16:17:52.571628",
     "status": "completed"
    },
    "tags": []
   },
   "source": [
    "# Building a Transformer"
   ]
  },
  {
   "cell_type": "markdown",
   "id": "f3f2a63d-6653-4074-977f-fdfd0456f7f6",
   "metadata": {},
   "source": [
    "## 🧠 Multi-Head Attention - Overview\n",
    "\n",
    "This custom `MultiHeadAttention` layer implements the core idea behind the Transformer attention mechanism.\n",
    "\n",
    "![Multi-Head Attention](https://data-science-blog.com/wp-content/uploads/2022/01/mha_img_original.png)\n",
    "\n",
    "\n",
    "### 🔄 Step-by-step Flow:\n",
    "\n",
    "1. **Input**:\n",
    "   - Input tensors: `queries`, `keys`, `values` of shape `(batch_size, seq_len, d_model)`.\n",
    "   - `mask` is optional and used to prevent attending to certain positions.\n",
    "\n",
    "2. **Linear Projections**:\n",
    "   - Each input (Q, K, V) is passed through a separate Dense layer to project them into the same dimension `d_model`.\n",
    "\n",
    "3. **Split into Multiple Heads**:\n",
    "   - The projected Q, K, V are reshaped and split into `n_heads`, each with a smaller dimensionality `d_head = d_model / n_heads`.\n",
    "   - New shape: `(batch_size, n_heads, seq_len, d_head)`\n",
    "\n",
    "4. **Scaled Dot-Product Attention** *(applied per head)*:\n",
    "   - For each head:\n",
    "      $$\n",
    "      \\text{Attention}(Q, K, V) = \\text{softmax}\\left(\\frac{QK^T}{\\sqrt{d_k}}\\right)V\n",
    "      $$\n",
    "   - `QK^T` computes similarity scores between each token.\n",
    "   - Scores are scaled by `sqrt(d_k)` to avoid large gradients.\n",
    "   - Softmax turns them into probabilities.\n",
    "   - These weights are used to sum up the `V` values.\n",
    "\n",
    "5. **Concatenate Heads**:\n",
    "   - The output from all heads is transposed and reshaped back into a single tensor of shape `(batch_size, seq_len, d_model)`.\n",
    "\n",
    "6. **Final Linear Layer**:\n",
    "   - A Dense layer (`W₀`) combines all heads into a single output tensor.\n",
    "\n",
    "---\n",
    "\n",
    "### ✅ Purpose:\n",
    "Multi-head attention allows the model to **attend to different representation subspaces** at different positions, helping it learn richer and more complex patterns than single-head attention."
   ]
  },
  {
   "cell_type": "code",
   "execution_count": 18,
   "id": "082fa20b",
   "metadata": {
    "execution": {
     "iopub.execute_input": "2025-05-02T20:09:13.143117Z",
     "iopub.status.busy": "2025-05-02T20:09:13.142282Z",
     "iopub.status.idle": "2025-05-02T20:09:13.149257Z",
     "shell.execute_reply": "2025-05-02T20:09:13.148493Z",
     "shell.execute_reply.started": "2025-05-02T20:09:13.143083Z"
    },
    "executionInfo": {
     "elapsed": 1003,
     "status": "ok",
     "timestamp": 1604164522271,
     "user": {
      "displayName": "Eduardo Muñoz Sala",
      "photoUrl": "https://lh3.googleusercontent.com/a-/AOh14Gi9gTFB7xfdxQyNiKRUzqE5vwb9WQjQuMtQz5F16w=s64",
      "userId": "13317831924226771761"
     },
     "user_tz": -60
    },
    "id": "2rEoCNJURbrT",
    "papermill": {
     "duration": 0.013851,
     "end_time": "2025-04-29T16:17:52.600850",
     "exception": false,
     "start_time": "2025-04-29T16:17:52.586999",
     "status": "completed"
    },
    "tags": [],
    "trusted": true
   },
   "outputs": [],
   "source": [
    "def scaled_dot_product_attention(queries, keys, values, mask):\n",
    "    # Calculate the dot product, QK_transpose \"to get how much they are similler\"\n",
    "    # in case of self attention the Q is the same of K\n",
    "    product = tf.matmul(queries, keys, transpose_b=True)\n",
    "    # Get the scale factor\n",
    "    keys_dim = tf.cast(tf.shape(keys)[-1], tf.float32) # -1 for the depth\n",
    "    # Apply the scale factor to the dot product\n",
    "    # because when the product is too big, he may give all attention to single word\n",
    "    scaled_product = product / tf.math.sqrt(keys_dim)\n",
    "    # Apply masking when it is requiered\n",
    "    # this is applied to skip any padding token\n",
    "    if mask is not None:\n",
    "        scaled_product += (mask * -1e9)\n",
    "    # dot product with Values\n",
    "    # softmax output is the weights \"how much attention we must give to each word\"\n",
    "    # so now we multiply the weights with the values to get the actula attentions\n",
    "    attention = tf.matmul(tf.nn.softmax(scaled_product, axis=-1), values)\n",
    "    \n",
    "    # so this is the context vector, representation of each word but with cosidering the context\n",
    "    return attention"
   ]
  },
  {
   "cell_type": "code",
   "execution_count": 19,
   "id": "bd02aa69",
   "metadata": {
    "execution": {
     "iopub.execute_input": "2025-05-02T20:09:14.384151Z",
     "iopub.status.busy": "2025-05-02T20:09:14.383568Z",
     "iopub.status.idle": "2025-05-02T20:09:14.391807Z",
     "shell.execute_reply": "2025-05-02T20:09:14.391045Z",
     "shell.execute_reply.started": "2025-05-02T20:09:14.384126Z"
    },
    "executionInfo": {
     "elapsed": 995,
     "status": "ok",
     "timestamp": 1604164525310,
     "user": {
      "displayName": "Eduardo Muñoz Sala",
      "photoUrl": "https://lh3.googleusercontent.com/a-/AOh14Gi9gTFB7xfdxQyNiKRUzqE5vwb9WQjQuMtQz5F16w=s64",
      "userId": "13317831924226771761"
     },
     "user_tz": -60
    },
    "id": "lvq4I9uTX5p7",
    "papermill": {
     "duration": 0.016121,
     "end_time": "2025-04-29T16:17:52.625598",
     "exception": false,
     "start_time": "2025-04-29T16:17:52.609477",
     "status": "completed"
    },
    "tags": [],
    "trusted": true
   },
   "outputs": [],
   "source": [
    "class MultiHeadAttention(layers.Layer):\n",
    "    # his parent is tf.keras.layers.Layer\n",
    "    def __init__(self, n_heads):\n",
    "        super(MultiHeadAttention, self).__init__()\n",
    "        self.n_heads = n_heads\n",
    "        \n",
    "    # called automatically when the class called   \n",
    "    def build(self, input_shape):\n",
    "        self.d_model = input_shape[-1]\n",
    "        # input shape is (batch_size, sequence_length, d_model)\n",
    "        # batch size, is N *sentences* in one batch\n",
    "        # seq length is N *tokens* on each *sentence*\n",
    "        # d model is N *dimensions* that each *token* represented by\n",
    "        # assert is a keyword to check if the condition is true\n",
    "        # we want each head to have the same dimensions\n",
    "        assert self.d_model % self.n_heads == 0\n",
    "        # Calculate the dimension of every head or projection\n",
    "        self.d_head = self.d_model // self.n_heads\n",
    "        # Set the weight matrices for Q, K and V\n",
    "        # units means number of units * we set it equals dimensions *\n",
    "        # we want the Q,K,V to be converted into desne so that the model learn \n",
    "        self.query_lin = layers.Dense(units=self.d_model)\n",
    "        self.key_lin = layers.Dense(units=self.d_model)\n",
    "        self.value_lin = layers.Dense(units=self.d_model)\n",
    "        # Set the weight matrix for the output of the multi-head attention W0\n",
    "        # this used after mixing all heads \n",
    "        self.final_lin = layers.Dense(units=self.d_model)\n",
    "        \n",
    "    def split_proj(self, inputs, batch_size): # inputs: (batch_size, seq_length, d_model)\n",
    "        # Set the dimension of the projections\n",
    "        shape = (batch_size,\n",
    "                 -1, # seq length but here we let tensorflow calculate it by itself\n",
    "                 self.n_heads,\n",
    "                 self.d_head) # dimensions for each head\n",
    "        # Split the input vectors\n",
    "        splited_inputs = tf.reshape(inputs, shape=shape) # (batch_size, seq_length, nb_proj, d_proj)\n",
    "        # before transpose: (batch_size, sequence_length, n_heads, d_head) \n",
    "        # after transpose: (batch_size, n_heads, sequence_length, d_head) \n",
    "        # we can say head or projection \"they are the same\"\n",
    "        return tf.transpose(splited_inputs, perm=[0, 2, 1, 3]) # (batch_size, n_heads, sequence_length, d_head) \n",
    "    \n",
    "    # this called when you call the class\n",
    "    def call(self, queries, keys, values, mask):\n",
    "        # Get the batch size \"first diemsion of the queries\"\n",
    "        batch_size = tf.shape(queries)[0]\n",
    "        # Set the Query, Key and Value matrices\n",
    "        # we split the K, Q, V to heads , and before we intialized the lin\n",
    "        # now we want these dense to take the actual Q K V \n",
    "        queries = self.query_lin(queries)\n",
    "        keys = self.key_lin(keys)\n",
    "        values = self.value_lin(values)\n",
    "        # Split Q, K y V between the heads or projections\n",
    "        queries = self.split_proj(queries, batch_size)\n",
    "        keys = self.split_proj(keys, batch_size)\n",
    "        values = self.split_proj(values, batch_size)\n",
    "        # Apply the scaled dot product\n",
    "        # calculate the attention for each head\n",
    "        attention = scaled_dot_product_attention(queries, keys, values, mask)\n",
    "        # Get the attention scores\n",
    "        # we reorder the attention as it was (batch, n_heads, seq_len, d_head)\n",
    "        # after transpose it becomes (batch, seq_len, n_heads, d_head)\n",
    "        # so now we can concat them\n",
    "        attention = tf.transpose(attention, perm=[0, 2, 1, 3])\n",
    "        # Concat the h heads or projections\n",
    "        # we go back to the older shape but with diff values after each head learned\n",
    "        concat_attention = tf.reshape(attention,\n",
    "                                      shape=(batch_size, -1, self.d_model))\n",
    "        # Apply W0 to get the output of the multi-head attention\n",
    "        outputs = self.final_lin(concat_attention)\n",
    "        \n",
    "        return outputs"
   ]
  },
  {
   "cell_type": "markdown",
   "id": "aebf864f-2de9-418b-9391-98cd6dd013a6",
   "metadata": {},
   "source": [
    "\n",
    "\n",
    "### Positional Encoding Explanation\n",
    "![Positional Encoding Overview](https://www.researchgate.net/publication/356679235/figure/fig6/AS:1098153185021953@1638831530545/An-over-view-of-the-working-of-positional-encoding-in-Transformer-Neural-Networks_W640.jpg)\n",
    "\n",
    "We use the periodic functions `sin` and `cos` to represent the positional encoding vector. For each position, we use the formula:\n",
    "\n",
    "$$\n",
    "\\text{angle} = \\frac{\\text{pos}}{10000^{\\frac{2i}{d_\\text{model}}}}\n",
    "$$\n",
    "\n",
    "Where:\n",
    "\n",
    "* **pos** is the position of the word in the sentence (e.g., 0 for the first word).\n",
    "* **i** is the dimension index (e.g., 0, 1, 2, ..., `d_model`).\n",
    "* **d\\_model** is the number of dimensions each word is represented by.\n",
    "\n",
    "For even dimensions (i.e., 0, 2, 4...), we apply `sin`, and for odd dimensions (i.e., 1, 3, 5...), we apply `cos`.\n",
    "\n",
    "![Positional Encoding Overview](https://substackcdn.com/image/fetch/f_auto,q_auto:good,fl_progressive:steep/https%3A%2F%2Fsubstack-post-media.s3.amazonaws.com%2Fpublic%2Fimages%2F58a77f49-ed6d-4614-9c64-505455bd0c83_2043x1300.png)\n",
    "\n",
    "This method helps us create a unique encoding for each position in the sequence. As the position increases, the wave becomes wider (lower frequency). Changing the position results in a completely different encoding.\n",
    "\n",
    "### Why `sin` and `cos`?\n",
    "\n",
    "* We use `sin` for even positions and `cos` for odd positions to ensure **no repetition** of the positional encoding.\n",
    "* We don't use `sigmoid` because it would produce similar encodings for different positions.\n",
    "* The number `10000` is used to ensure that the wave doesn't repeat too quickly, even for long sequences (e.g., 1,000,000 words).\n",
    "This way, each word in the sequence gets a unique encoding based on its position, helping the model understand the order of words.\n",
    "\n"
   ]
  },
  {
   "cell_type": "code",
   "execution_count": null,
   "id": "158f551f",
   "metadata": {
    "execution": {
     "iopub.execute_input": "2025-05-02T20:09:15.829832Z",
     "iopub.status.busy": "2025-05-02T20:09:15.829174Z",
     "iopub.status.idle": "2025-05-02T20:09:15.837743Z",
     "shell.execute_reply": "2025-05-02T20:09:15.836896Z",
     "shell.execute_reply.started": "2025-05-02T20:09:15.829804Z"
    },
    "executionInfo": {
     "elapsed": 968,
     "status": "ok",
     "timestamp": 1604164529236,
     "user": {
      "displayName": "Eduardo Muñoz Sala",
      "photoUrl": "https://lh3.googleusercontent.com/a-/AOh14Gi9gTFB7xfdxQyNiKRUzqE5vwb9WQjQuMtQz5F16w=s64",
      "userId": "13317831924226771761"
     },
     "user_tz": -60
    },
    "id": "e2wc6sYlX0dr",
    "papermill": {
     "duration": 0.014533,
     "end_time": "2025-04-29T16:17:52.647913",
     "exception": false,
     "start_time": "2025-04-29T16:17:52.633380",
     "status": "completed"
    },
    "tags": [],
    "trusted": true
   },
   "outputs": [],
   "source": [
    "class PositionalEncoding(layers.Layer):\n",
    "# we need positional encoding as the model itself dosen't cosider the position of each word\n",
    "\n",
    "    def __init__(self):\n",
    "        super(PositionalEncoding, self).__init__()\n",
    "    \n",
    "    # a function calculates the theta to put the cos and sin to perform positional encoding\n",
    "    # pos : is the position of the word in the sentence \"0 for 1st word\"\n",
    "    # i , is the dimension number \n",
    "    # d_model is N dimensions that each word represented by\n",
    "    # i // 2 because each 2 dim shares the same freq, one for sin and the other for cosine\n",
    "    # (2*(i//2)) / np.float32(d_model) claculates the frequancy so that each dim has diff wave\n",
    "    # 1 / 10000  this scales down the output so that the wave is small and matched\n",
    "    # pos * angles , each word has different number according to its position on the sentence\n",
    "    def get_angles(self, pos, i, d_model): \n",
    "        angles = 1 / np.power(10000., (2*(i//2)) / np.float32(d_model))\n",
    "        return pos * angles # (seq_length, d_model)\n",
    "\n",
    "    def call(self, inputs):\n",
    "        # input shape (batch_size, \"seq_length\", \"d_model\")\n",
    "        seq_length = inputs.shape.as_list()[-2]\n",
    "        d_model = inputs.shape.as_list()[-1]\n",
    "        # Calculate the angles given the input\n",
    "        # we make a matrix contains 0-> seq lenght-1 \" the positions\"\\\n",
    "        # and another one contains the numbers from 0 -> d_model \"number of dim represnts each word\"\n",
    "        angles = self.get_angles(np.arange(seq_length)[:, np.newaxis],\n",
    "                                 np.arange(d_model)[np.newaxis, :],\n",
    "                                 d_model)\n",
    "        # Calculate the positional encodings\n",
    "        angles[:, 0::2] = np.sin(angles[:, 0::2])\n",
    "        angles[:, 1::2] = np.cos(angles[:, 1::2])\n",
    "        # Expand the encodings with a new dimension\n",
    "        pos_encoding = angles[np.newaxis, ...]\n",
    "        \n",
    "        # now we add the positional encoding to the inpusts \n",
    "        # so now the encoded inputs contains the word represntation and the position\n",
    "        return inputs + tf.cast(pos_encoding, tf.float32)"
   ]
  },
  {
   "cell_type": "markdown",
   "id": "0ee4b9e4-aac0-4e69-a73d-3bd12e3993e2",
   "metadata": {},
   "source": [
    "# 🔤 Transformer Encoder Overview\n",
    "\n",
    "The **Encoder** is a main part of the Transformer model.\n",
    "\n",
    "It takes a sentence and turns each word into a rich vector that knows the context of the whole sentence.\n",
    "\n",
    "---\n",
    "\n",
    "## 📦 The Encoder Structure\n",
    "\n",
    "The Encoder is made of:\n",
    "\n",
    "1. **Embedding Layer**  \n",
    "   Converts word IDs to vectors of size `d_model`.\n",
    "\n",
    "2. **Positional Encoding**  \n",
    "   Adds information about the position of each word in the sentence.\n",
    "\n",
    "3. **Dropout Layer**  \n",
    "   Used to prevent overfitting during training.\n",
    "\n",
    "4. **Stack of Encoder Layers**  \n",
    "   Repeated `n_layers` times.\n",
    "\n",
    "\n",
    "---\n",
    "\n",
    "## 🔁 Each Encoder Layer has:\n",
    "\n",
    "1. **Multi-Head Self Attention**  \n",
    "   - Looks at other words in the sentence to understand context.  \n",
    "   - Self-attention means Query = Key = Value = input.\n",
    "\n",
    "2. **Add & Normalize**  \n",
    "   - Adds the attention output to the input (residual connection).  \n",
    "   - Applies Layer Normalization.\n",
    "\n",
    "3. **Feed Forward Neural Network (FFN)**  \n",
    "   - Two dense layers:\n",
    "     - One with ReLU activation.\n",
    "     - One linear (no activation).\n",
    "   - Helps transform the features.\n",
    "\n",
    "4. **Add & Normalize again**  \n",
    "   - Adds FFN output to the attention output (residual connection).  \n",
    "   - Applies Layer Normalization.\n",
    "\n",
    "5. **Dropout Layers**  \n",
    "   - Applied after attention and FFN to prevent overfitting.\n",
    "\n",
    "## 🖼️ Visual Example\n",
    "\n",
    "<img src=\"http://researchgate.net/profile/Ehsan-Amjadian/publication/352239001/figure/fig1/AS:1033334390013952@1623377525434/Detailed-view-of-a-transformer-encoder-block-It-first-passes-the-input-through-an.jpg\" height=\"900\" style=\"display: block; margin: 0 auto;\"/>\n",
    "\n",
    "\n"
   ]
  },
  {
   "cell_type": "code",
   "execution_count": null,
   "id": "2efca8a4",
   "metadata": {
    "execution": {
     "iopub.execute_input": "2025-05-02T20:09:17.793560Z",
     "iopub.status.busy": "2025-05-02T20:09:17.793251Z",
     "iopub.status.idle": "2025-05-02T20:09:17.800901Z",
     "shell.execute_reply": "2025-05-02T20:09:17.800095Z",
     "shell.execute_reply.started": "2025-05-02T20:09:17.793539Z"
    },
    "executionInfo": {
     "elapsed": 1003,
     "status": "ok",
     "timestamp": 1604164532307,
     "user": {
      "displayName": "Eduardo Muñoz Sala",
      "photoUrl": "https://lh3.googleusercontent.com/a-/AOh14Gi9gTFB7xfdxQyNiKRUzqE5vwb9WQjQuMtQz5F16w=s64",
      "userId": "13317831924226771761"
     },
     "user_tz": -60
    },
    "id": "UV0ZMH7KT_KZ",
    "papermill": {
     "duration": 0.015211,
     "end_time": "2025-04-29T16:17:52.670643",
     "exception": false,
     "start_time": "2025-04-29T16:17:52.655432",
     "status": "completed"
    },
    "tags": [],
    "trusted": true
   },
   "outputs": [],
   "source": [
    "class EncoderLayer(layers.Layer):\n",
    "    \n",
    "    # FF stands for feed forward\n",
    "    def __init__(self, FFN_units, n_heads, dropout_rate):\n",
    "        super(EncoderLayer, self).__init__()\n",
    "        # Hidden units of the feed forward component\n",
    "        self.FFN_units = FFN_units\n",
    "        # Set the number of projectios or heads\n",
    "        self.n_heads = n_heads\n",
    "        # Dropout rate\n",
    "        self.dropout_rate = dropout_rate\n",
    "    \n",
    "    def build(self, input_shape):\n",
    "        # take the batch size\n",
    "        self.d_model = input_shape[-1]\n",
    "        # Build the multihead layer\n",
    "        self.multi_head_attention = MultiHeadAttention(self.n_heads)\n",
    "        self.dropout_1 = layers.Dropout(rate=self.dropout_rate)\n",
    "        # Layer Normalization\n",
    "        self.norm_1 = layers.LayerNormalization(epsilon=1e-6)\n",
    "        \n",
    "        # Fully connected feed forward layer\n",
    "        self.ffn1_relu = layers.Dense(units=self.FFN_units, activation=\"relu\")\n",
    "        self.ffn2 = layers.Dense(units=self.d_model)\n",
    "        self.dropout_2 = layers.Dropout(rate=self.dropout_rate)\n",
    "        # Layer normalization\n",
    "        self.norm_2 = layers.LayerNormalization(epsilon=1e-6)\n",
    "        \n",
    "    def call(self, inputs, mask, training):\n",
    "        # attention for the same input as we start K = Q = V \"self attention\"\n",
    "        # Forward pass of the multi-head attention\n",
    "        attention = self.multi_head_attention(inputs,\n",
    "                                              inputs,\n",
    "                                              inputs,\n",
    "                                              mask)\n",
    "        attention = self.dropout_1(attention, training=training)\n",
    "        # Call to the residual connection and layer normalization\n",
    "        attention = self.norm_1(attention + inputs)\n",
    "        # Call to the FC layer\n",
    "        outputs = self.ffn1_relu(attention)\n",
    "        outputs = self.ffn2(outputs)\n",
    "        outputs = self.dropout_2(outputs, training=training)\n",
    "        # Call to residual connection and the layer normalization\n",
    "        outputs = self.norm_2(outputs + attention)\n",
    "        \n",
    "        return outputs"
   ]
  },
  {
   "cell_type": "code",
   "execution_count": 22,
   "id": "d599909a",
   "metadata": {
    "execution": {
     "iopub.execute_input": "2025-05-02T20:09:32.514007Z",
     "iopub.status.busy": "2025-05-02T20:09:32.513713Z",
     "iopub.status.idle": "2025-05-02T20:09:32.520647Z",
     "shell.execute_reply": "2025-05-02T20:09:32.519738Z",
     "shell.execute_reply.started": "2025-05-02T20:09:32.513984Z"
    },
    "executionInfo": {
     "elapsed": 428,
     "status": "ok",
     "timestamp": 1604164533414,
     "user": {
      "displayName": "Eduardo Muñoz Sala",
      "photoUrl": "https://lh3.googleusercontent.com/a-/AOh14Gi9gTFB7xfdxQyNiKRUzqE5vwb9WQjQuMtQz5F16w=s64",
      "userId": "13317831924226771761"
     },
     "user_tz": -60
    },
    "id": "P-P92KeZih60",
    "papermill": {
     "duration": 0.014442,
     "end_time": "2025-04-29T16:17:52.692660",
     "exception": false,
     "start_time": "2025-04-29T16:17:52.678218",
     "status": "completed"
    },
    "tags": [],
    "trusted": true
   },
   "outputs": [],
   "source": [
    "class Encoder(layers.Layer):\n",
    "    \n",
    "    def __init__(self,\n",
    "                 n_layers,\n",
    "                 FFN_units,\n",
    "                 n_heads,\n",
    "                 dropout_rate,\n",
    "                 vocab_size,\n",
    "                 d_model,\n",
    "                 name=\"encoder\"):\n",
    "        super(Encoder, self).__init__(name=name)\n",
    "        self.n_layers = n_layers\n",
    "        self.d_model = d_model\n",
    "        # The embedding layer\n",
    "        self.embedding = layers.Embedding(vocab_size, d_model)\n",
    "        # Positional encoding layer\n",
    "        self.pos_encoding = PositionalEncoding()\n",
    "        self.dropout = layers.Dropout(rate=dropout_rate)\n",
    "        # Stack of n layers of multi-head attention and FC\n",
    "        self.enc_layers = [EncoderLayer(FFN_units,\n",
    "                                        n_heads,\n",
    "                                        dropout_rate) \n",
    "                           for _ in range(n_layers)]\n",
    "    \n",
    "    def call(self, inputs, mask, training):\n",
    "        # Get the embedding vectors\n",
    "        outputs = self.embedding(inputs)\n",
    "        # Scale the embeddings by sqrt of d_model\n",
    "        # because that the values comes from the embedding may be soo small or so big\n",
    "        # so the scaling helps for better gradient\n",
    "        outputs *= tf.math.sqrt(tf.cast(self.d_model, tf.float32))\n",
    "        # Positional encodding\n",
    "        outputs = self.pos_encoding(outputs)\n",
    "        outputs = self.dropout(outputs, training=training)\n",
    "        # Call the stacked layers\n",
    "        for i in range(self.n_layers):\n",
    "            outputs = self.enc_layers[i](outputs, mask, training=training)\n",
    "\n",
    "        return outputs"
   ]
  },
  {
   "cell_type": "markdown",
   "id": "a613743e-fbcd-4ce3-bcac-75bfbaf5a819",
   "metadata": {},
   "source": [
    "# 🔄 Transformer Decoder Overview\n",
    "\n",
    "The Decoder Layer processes target inputs and incorporates encoder outputs to generate context-aware predictions. It contains 3 main blocks:\n",
    "\n",
    "---\n",
    "\n",
    "![Transformer Attention Model](https://pylessons.com/media/Tutorials/transformers/transformer-attention/model-min.png)\n",
    "\n",
    "\n",
    "### 1. 🔷 Causal Self-Attention\n",
    "- Allows attention to previous tokens only (prevents seeing future).\n",
    "- Uses multi-head attention + dropout + layer norm.\n",
    "  \n",
    "\n",
    "\n",
    "### 2. 🔷 Encoder-Decoder Attention\n",
    "- Lets decoder focus on encoder outputs (source sentence).\n",
    "- Uses multi-head attention with encoder output as keys/values.\n",
    "- Followed by dropout + layer norm.\n",
    "\n",
    "\n",
    "\n",
    "### 3. 🔷 Feed Forward Network (FFN)\n",
    "- Two dense layers with ReLU in between.\n",
    "- Applies position-wise transformation.\n",
    "- Includes dropout + layer norm.\n",
    "\n",
    "\n",
    "### 🧩 Residual & Normalization\n",
    "- Each block uses a residual connection followed by layer normalization to stabilize and speed up training.\n",
    "\n",
    "\n",
    "\n",
    "### 📥 Inputs\n",
    "- `inputs`: From previous decoder layer or embedding.\n",
    "- `enc_outputs`: Encoder outputs.\n",
    "- `mask_1`: Causal mask for self-attention.\n",
    "- `mask_2`: Padding mask for encoder-decoder attention.\n",
    "- `training`: Controls dropout behavior.\n",
    "\n",
    "\n",
    "### 📤 Output\n",
    "- Processed sequence passed to the next decoder layer or final output layer."
   ]
  },
  {
   "cell_type": "code",
   "execution_count": 23,
   "id": "8674c04a",
   "metadata": {
    "execution": {
     "iopub.execute_input": "2025-05-02T20:09:34.012603Z",
     "iopub.status.busy": "2025-05-02T20:09:34.012331Z",
     "iopub.status.idle": "2025-05-02T20:09:34.020429Z",
     "shell.execute_reply": "2025-05-02T20:09:34.019728Z",
     "shell.execute_reply.started": "2025-05-02T20:09:34.012583Z"
    },
    "executionInfo": {
     "elapsed": 1018,
     "status": "ok",
     "timestamp": 1604164536304,
     "user": {
      "displayName": "Eduardo Muñoz Sala",
      "photoUrl": "https://lh3.googleusercontent.com/a-/AOh14Gi9gTFB7xfdxQyNiKRUzqE5vwb9WQjQuMtQz5F16w=s64",
      "userId": "13317831924226771761"
     },
     "user_tz": -60
    },
    "id": "7ZWZyFBnwy8u",
    "papermill": {
     "duration": 0.016021,
     "end_time": "2025-04-29T16:17:52.716190",
     "exception": false,
     "start_time": "2025-04-29T16:17:52.700169",
     "status": "completed"
    },
    "tags": [],
    "trusted": true
   },
   "outputs": [],
   "source": [
    "class DecoderLayer(layers.Layer):\n",
    "    \n",
    "    def __init__(self, FFN_units, n_heads, dropout_rate):\n",
    "        super(DecoderLayer, self).__init__()\n",
    "        self.FFN_units = FFN_units\n",
    "        self.n_heads = n_heads\n",
    "        self.dropout_rate = dropout_rate\n",
    "    \n",
    "    def build(self, input_shape):\n",
    "        self.d_model = input_shape[-1]\n",
    "        \n",
    "        # Self multi head attention, causal attention\n",
    "        self.multi_head_causal_attention = MultiHeadAttention(self.n_heads)\n",
    "        self.dropout_1 = layers.Dropout(rate=self.dropout_rate)\n",
    "        self.norm_1 = layers.LayerNormalization(epsilon=1e-6)\n",
    "        \n",
    "        # Multi head attention, encoder-decoder attention \n",
    "        self.multi_head_enc_dec_attention = MultiHeadAttention(self.n_heads)\n",
    "        self.dropout_2 = layers.Dropout(rate=self.dropout_rate)\n",
    "        self.norm_2 = layers.LayerNormalization(epsilon=1e-6)\n",
    "        \n",
    "        # Feed foward\n",
    "        self.ffn1_relu = layers.Dense(units=self.FFN_units,\n",
    "                                    activation=\"relu\")\n",
    "        self.ffn2 = layers.Dense(units=self.d_model)\n",
    "        self.dropout_3 = layers.Dropout(rate=self.dropout_rate)\n",
    "        self.norm_3 = layers.LayerNormalization(epsilon=1e-6)\n",
    "\n",
    "    # mask 1 is the lookahead mask or causual mask, prevernt the decoder from considering non generated words\n",
    "    # mask 2 prevent the decoder from considering the padding \n",
    "    # training is a boolean equals true on training and false on evaluation \"controls the dropout\"     \n",
    "    def call(self, inputs, enc_outputs, mask_1, mask_2, training):\n",
    "        # Call the masked causal attention\n",
    "        attention = self.multi_head_causal_attention(inputs,\n",
    "                                                inputs,\n",
    "                                                inputs,\n",
    "                                                mask_1)\n",
    "        attention = self.dropout_1(attention, training=training)\n",
    "        # Residual connection and layer normalization\n",
    "        attention = self.norm_1(attention + inputs)\n",
    "        # Call the encoder-decoder attention\n",
    "        attention_2 = self.multi_head_enc_dec_attention(attention,\n",
    "                                                  enc_outputs,\n",
    "                                                  enc_outputs,\n",
    "                                                  mask_2)\n",
    "        attention_2 = self.dropout_2(attention_2, training=training)\n",
    "        # Residual connection and layer normalization\n",
    "        attention_2 = self.norm_2(attention_2 + attention)\n",
    "        # Call the Feed forward\n",
    "        outputs = self.ffn1_relu(attention_2)\n",
    "        outputs = self.ffn2(outputs)\n",
    "        outputs = self.dropout_3(outputs, training=training)\n",
    "        # Residual connection and layer normalization\n",
    "        outputs = self.norm_3(outputs + attention_2)\n",
    "        \n",
    "        return outputs"
   ]
  },
  {
   "cell_type": "code",
   "execution_count": 24,
   "id": "0bfdf200",
   "metadata": {
    "execution": {
     "iopub.execute_input": "2025-05-02T20:09:35.674817Z",
     "iopub.status.busy": "2025-05-02T20:09:35.674530Z",
     "iopub.status.idle": "2025-05-02T20:09:35.681079Z",
     "shell.execute_reply": "2025-05-02T20:09:35.680329Z",
     "shell.execute_reply.started": "2025-05-02T20:09:35.674796Z"
    },
    "executionInfo": {
     "elapsed": 907,
     "status": "ok",
     "timestamp": 1604164538109,
     "user": {
      "displayName": "Eduardo Muñoz Sala",
      "photoUrl": "https://lh3.googleusercontent.com/a-/AOh14Gi9gTFB7xfdxQyNiKRUzqE5vwb9WQjQuMtQz5F16w=s64",
      "userId": "13317831924226771761"
     },
     "user_tz": -60
    },
    "id": "kpzdiWHiwywF",
    "papermill": {
     "duration": 0.014815,
     "end_time": "2025-04-29T16:17:52.738473",
     "exception": false,
     "start_time": "2025-04-29T16:17:52.723658",
     "status": "completed"
    },
    "tags": [],
    "trusted": true
   },
   "outputs": [],
   "source": [
    "class Decoder(layers.Layer):\n",
    "    \n",
    "    def __init__(self,\n",
    "                 n_layers, # how many decoder layer we will use\n",
    "                 FFN_units,\n",
    "                 n_heads,\n",
    "                 dropout_rate,\n",
    "                 vocab_size, # number of vocabs in the generated language\n",
    "                 d_model, # dimnesions for each word after embedding\n",
    "                 name=\"decoder\"):\n",
    "        super(Decoder, self).__init__(name=name)\n",
    "        self.d_model = d_model\n",
    "        self.n_layers = n_layers\n",
    "        # Embedding layer\n",
    "        self.embedding = layers.Embedding(vocab_size, d_model)\n",
    "        # Positional encoding layer\n",
    "        self.pos_encoding = PositionalEncoding()\n",
    "        self.dropout = layers.Dropout(rate=dropout_rate)\n",
    "        # Stacked layers of multi-head attention and feed forward\n",
    "        self.dec_layers = [DecoderLayer(FFN_units,\n",
    "                                        n_heads,\n",
    "                                        dropout_rate) \n",
    "                           for _ in range(n_layers)]\n",
    "    \n",
    "    # enc_outputs is the outputs of the encoder, we will use it in the 2nd block\n",
    "    # mask 1 is the lookahead mask or causual mask, prevernt the decoder from considering non generated words\n",
    "    # mask 2 prevent the decoder from considering the padding \n",
    "    # training is a boolean equals true on training and false on evaluation \"controls the dropout\" \n",
    "    def call(self, inputs, enc_outputs, mask_1, mask_2, training):\n",
    "        # Get the embedding vectors\n",
    "        outputs = self.embedding(inputs)\n",
    "        # Scale by sqrt of d_model \n",
    "        # because that the values comes from the embedding may be soo small or so big\n",
    "        # so the scaling helps for better gradient\n",
    "        outputs *= tf.math.sqrt(tf.cast(self.d_model, tf.float32))\n",
    "        # Positional encodding\n",
    "        outputs = self.pos_encoding(outputs)\n",
    "        outputs = self.dropout(outputs, training=training)\n",
    "        # Call the stacked layers\n",
    "        for i in range(self.n_layers):\n",
    "            outputs = self.dec_layers[i](outputs,\n",
    "                                         enc_outputs,\n",
    "                                         mask_1,\n",
    "                                         mask_2,\n",
    "                                         training=training)\n",
    "\n",
    "        return outputs"
   ]
  },
  {
   "cell_type": "markdown",
   "id": "bc5b55b8-a880-4133-8cde-ebedd68942b7",
   "metadata": {},
   "source": [
    "### Explanation of Look-Ahead Mask\n",
    "\n",
    "The **look-ahead mask** is used in the Transformer model to prevent the **decoder** from looking at future tokens when making predictions. This ensures that the model only uses past and current tokens.\n",
    "\n",
    "#### Steps:\n",
    "\n",
    "1. **Get the sequence length:**\n",
    "   This gives the number of tokens in the sequence.\n",
    "\n",
    "2. **Create a matrix of ones:**\n",
    "   This creates a square matrix filled with `1`s.\n",
    "\n",
    "3. **Make it lower triangular (band part):**\n",
    "   This converts the matrix into a lower triangular form where only the elements below and including the diagonal are `1`.\n",
    "\n",
    "   Example of a 5x5 matrix:\n",
    "\n",
    "   ```\n",
    "   [[1, 0, 0, 0, 0],\n",
    "    [1, 1, 0, 0, 0],\n",
    "    [1, 1, 1, 0, 0],\n",
    "    [1, 1, 1, 1, 0],\n",
    "    [1, 1, 1, 1, 1]]\n",
    "   ```\n",
    "\n",
    "4. **Invert the values:**\n",
    "   This inverts the values, turning `1`s into `0`s and vice versa. After inversion, the look-ahead mask would look like:\n",
    "\n",
    "   ```\n",
    "   [[0, 1, 1, 1, 1],\n",
    "    [0, 0, 1, 1, 1],\n",
    "    [0, 0, 0, 1, 1],\n",
    "    [0, 0, 0, 0, 1],\n",
    "    [0, 0, 0, 0, 0]]\n",
    "   ```\n",
    "\n",
    "#### Why is it used?\n",
    "\n",
    "The look-ahead mask ensures the **decoder** only attends to the current and past tokens, not future ones. This prevents \"cheating\" when predicting the next token."
   ]
  },
  {
   "cell_type": "code",
   "execution_count": 25,
   "id": "f29f5563",
   "metadata": {
    "execution": {
     "iopub.execute_input": "2025-05-02T20:09:37.417454Z",
     "iopub.status.busy": "2025-05-02T20:09:37.417180Z",
     "iopub.status.idle": "2025-05-02T20:09:37.424643Z",
     "shell.execute_reply": "2025-05-02T20:09:37.424056Z",
     "shell.execute_reply.started": "2025-05-02T20:09:37.417432Z"
    },
    "executionInfo": {
     "elapsed": 931,
     "status": "ok",
     "timestamp": 1604164541547,
     "user": {
      "displayName": "Eduardo Muñoz Sala",
      "photoUrl": "https://lh3.googleusercontent.com/a-/AOh14Gi9gTFB7xfdxQyNiKRUzqE5vwb9WQjQuMtQz5F16w=s64",
      "userId": "13317831924226771761"
     },
     "user_tz": -60
    },
    "id": "GqvqNjJPwyh-",
    "papermill": {
     "duration": 0.015291,
     "end_time": "2025-04-29T16:17:52.761484",
     "exception": false,
     "start_time": "2025-04-29T16:17:52.746193",
     "status": "completed"
    },
    "tags": [],
    "trusted": true
   },
   "outputs": [],
   "source": [
    "class Transformer(tf.keras.Model):\n",
    "    \n",
    "    def __init__(self,\n",
    "                 vocab_size_enc, \n",
    "                 vocab_size_dec,\n",
    "                 d_model,\n",
    "                 n_layers,\n",
    "                 FFN_units,\n",
    "                 n_heads,\n",
    "                 dropout_rate,\n",
    "                 name=\"transformer\"):\n",
    "        super(Transformer, self).__init__(name=name)\n",
    "        # Build the encoder\n",
    "        self.encoder = Encoder(n_layers,\n",
    "                               FFN_units,\n",
    "                               n_heads,\n",
    "                               dropout_rate,\n",
    "                               vocab_size_enc,\n",
    "                               d_model)\n",
    "        # Build the decoder\n",
    "        self.decoder = Decoder(n_layers,\n",
    "                               FFN_units,\n",
    "                               n_heads,\n",
    "                               dropout_rate,\n",
    "                               vocab_size_dec,\n",
    "                               d_model)\n",
    "        # build the linear transformation and softmax function\n",
    "        self.last_linear = layers.Dense(units=vocab_size_dec, name=\"lin_ouput\")\n",
    "    \n",
    "    # Seq is the input data into the decoder or encoder\n",
    "    def create_padding_mask(self, seq): #seq: (batch_size, seq_length)\n",
    "        # Create the mask for padding\n",
    "        mask = tf.cast(tf.math.equal(seq, 0), tf.float32)\n",
    "        # this returns tensor has the same shape of the seq but \n",
    "        # represents each real word with 0 and each padding with 1 \"when the value is 0 then represnet it with 1\"\n",
    "        return mask[:, tf.newaxis, tf.newaxis, :]\n",
    "\n",
    "    def create_look_ahead_mask(self, seq):\n",
    "        # Create the mask for the causal attention\n",
    "        # seq[1] means the sequance length \n",
    "        seq_len = tf.shape(seq)[1]\n",
    "        # tf.ones((seq_len, seq_len)) creates a square matrix contians only 1z, with shape (seq_len, seq_len)\n",
    "        # band part is a function generates a lower triangle from the matrix\n",
    "        # -1 means allowing all the elements under the diagonal \n",
    "        # 0 means the matrix contains 0 above the diagonal\n",
    "        # 1- means inversing the numbers \"0 becomes 1 and vice versa\"\n",
    "        look_ahead_mask = 1 - tf.linalg.band_part(tf.ones((seq_len, seq_len)), -1, 0)\n",
    "        # this mask means that each 0 is a future word you must ignore \n",
    "        return look_ahead_mask\n",
    "    \n",
    "    def call(self, enc_inputs, dec_inputs, training):\n",
    "        # Create the padding mask for the encoder\n",
    "        enc_mask = self.create_padding_mask(enc_inputs)\n",
    "        # Create the mask for the causal attention \"first block\"\n",
    "        dec_mask_1 = tf.maximum(\n",
    "            self.create_padding_mask(dec_inputs),\n",
    "            self.create_look_ahead_mask(dec_inputs)\n",
    "        )\n",
    "        # Create the mask for the encoder-decoder attention \"second block\"\n",
    "        dec_mask_2 = self.create_padding_mask(enc_inputs)\n",
    "        # Call the encoder\n",
    "        enc_outputs = self.encoder(enc_inputs, enc_mask, training=training)\n",
    "        # Call the decoder\n",
    "        dec_outputs = self.decoder(dec_inputs,\n",
    "                                   enc_outputs,\n",
    "                                   dec_mask_1,\n",
    "                                   dec_mask_2,\n",
    "                                   training=training)\n",
    "        # Call the Linear and Softmax functions\n",
    "        outputs = self.last_linear(dec_outputs)\n",
    "        \n",
    "        return outputs"
   ]
  },
  {
   "cell_type": "code",
   "execution_count": 26,
   "id": "ba11c702",
   "metadata": {
    "execution": {
     "iopub.execute_input": "2025-05-02T20:09:39.454326Z",
     "iopub.status.busy": "2025-05-02T20:09:39.454078Z",
     "iopub.status.idle": "2025-05-02T20:09:39.460570Z",
     "shell.execute_reply": "2025-05-02T20:09:39.459967Z",
     "shell.execute_reply.started": "2025-05-02T20:09:39.454308Z"
    },
    "executionInfo": {
     "elapsed": 935,
     "status": "ok",
     "timestamp": 1604164546949,
     "user": {
      "displayName": "Eduardo Muñoz Sala",
      "photoUrl": "https://lh3.googleusercontent.com/a-/AOh14Gi9gTFB7xfdxQyNiKRUzqE5vwb9WQjQuMtQz5F16w=s64",
      "userId": "13317831924226771761"
     },
     "user_tz": -60
    },
    "id": "AM6zndzkAxC0",
    "papermill": {
     "duration": 0.014411,
     "end_time": "2025-04-29T16:17:52.783675",
     "exception": false,
     "start_time": "2025-04-29T16:17:52.769264",
     "status": "completed"
    },
    "tags": [],
    "trusted": true
   },
   "outputs": [],
   "source": [
    "def loss_function(target, pred):\n",
    "    # logical not , outputs true when the value is zero \"padding\", and vise versa\n",
    "    # so now we know where is the padding \"true\"\n",
    "    mask = tf.math.logical_not(tf.math.equal(target, 0))\n",
    "    loss_ = loss_object(target, pred)\n",
    "    \n",
    "    # now convert the mask into the same type of the loss instead of true and false\n",
    "    mask = tf.cast(mask, dtype=loss_.dtype)\n",
    "    # apply the mask on the loss so if its padding so the loss is 0\n",
    "    loss_ *= mask\n",
    "    \n",
    "    return tf.reduce_mean(loss_)\n",
    "\n",
    "class CustomSchedule(tf.keras.optimizers.schedules.LearningRateSchedule):\n",
    "    \n",
    "    def __init__(self, d_model, warmup_steps=4000):\n",
    "        super(CustomSchedule, self).__init__()\n",
    "        \n",
    "        self.d_model = tf.cast(d_model, tf.float32)\n",
    "        self.warmup_steps = warmup_steps\n",
    "    \n",
    "    def __call__(self, step):\n",
    "        step = tf.cast(step, tf.float32)  # Cast step to float to avoid type issues.\n",
    "        arg1 = tf.math.rsqrt(step)\n",
    "        arg2 = step * (self.warmup_steps ** -1.5)\n",
    "        return tf.math.rsqrt(self.d_model) * tf.math.minimum(arg1, arg2)\n"
   ]
  },
  {
   "cell_type": "code",
   "execution_count": 27,
   "id": "de6b8c81",
   "metadata": {
    "execution": {
     "iopub.execute_input": "2025-05-02T20:09:41.027590Z",
     "iopub.status.busy": "2025-05-02T20:09:41.027326Z",
     "iopub.status.idle": "2025-05-02T20:09:41.035239Z",
     "shell.execute_reply": "2025-05-02T20:09:41.034465Z",
     "shell.execute_reply.started": "2025-05-02T20:09:41.027572Z"
    },
    "executionInfo": {
     "elapsed": 1004,
     "status": "ok",
     "timestamp": 1604164550739,
     "user": {
      "displayName": "Eduardo Muñoz Sala",
      "photoUrl": "https://lh3.googleusercontent.com/a-/AOh14Gi9gTFB7xfdxQyNiKRUzqE5vwb9WQjQuMtQz5F16w=s64",
      "userId": "13317831924226771761"
     },
     "user_tz": -60
    },
    "id": "lhFK5kUx602K",
    "papermill": {
     "duration": 0.015724,
     "end_time": "2025-04-29T16:17:52.807046",
     "exception": false,
     "start_time": "2025-04-29T16:17:52.791322",
     "status": "completed"
    },
    "tags": [],
    "trusted": true
   },
   "outputs": [],
   "source": [
    "from tqdm import tqdm  # Import tqdm for progress bar\n",
    "\n",
    "def main_train(dataset, transformer, n_epochs, print_every=50):\n",
    "    ''' Train the transformer model for n_epochs using the data generator dataset'''\n",
    "    losses = []\n",
    "    accuracies = []\n",
    "\n",
    "    for epoch in range(n_epochs):\n",
    "        print(f\"Starting epoch {epoch+1}\")\n",
    "        start = time.time()\n",
    "\n",
    "        # Reset the loss and accuracy calculations\n",
    "        train_loss.reset_state()\n",
    "        train_accuracy.reset_state()\n",
    "\n",
    "        # Create a tqdm progress bar for the batch loop\n",
    "        progress_bar = tqdm(enumerate(dataset), total=len(dataset), desc=f\"Epoch {epoch+1}\", position=0, leave=True)\n",
    "\n",
    "        for batch, (enc_inputs, targets) in progress_bar:\n",
    "            # Set the decoder inputs\n",
    "            dec_inputs = targets[:, :-1]\n",
    "            # Set the target outputs, right-shifted\n",
    "            dec_outputs_real = targets[:, 1:]\n",
    "\n",
    "            with tf.GradientTape() as tape:\n",
    "                # Call the transformer and get the predicted output\n",
    "                predictions = transformer(enc_inputs, dec_inputs, training=True)\n",
    "                # Calculate the loss\n",
    "                loss = loss_function(dec_outputs_real, predictions)\n",
    "\n",
    "            # Update the weights and optimizer\n",
    "            gradients = tape.gradient(loss, transformer.trainable_variables)\n",
    "            optimizer.apply_gradients(zip(gradients, transformer.trainable_variables))\n",
    "\n",
    "            # Save and store the metrics\n",
    "            train_loss(loss)\n",
    "            train_accuracy(dec_outputs_real, predictions)\n",
    "\n",
    "            # Update tqdm progress bar description with live loss & accuracy\n",
    "            progress_bar.set_postfix(loss=train_loss.result().numpy(), accuracy=train_accuracy.result().numpy())\n",
    "\n",
    "            # Print every `print_every` batches\n",
    "            if batch % print_every == 0:\n",
    "                losses.append(train_loss.result().numpy())\n",
    "                accuracies.append(train_accuracy.result().numpy())\n",
    "\n",
    "        # Save checkpoint after each epoch\n",
    "        ckpt_save_path = ckpt_manager.save()\n",
    "        print(f\"Saving checkpoint for epoch {epoch+1} in {ckpt_save_path}\")\n",
    "        print(f\"Time for 1 epoch: {time.time() - start:.2f} secs\\n\")\n",
    "\n",
    "    return losses, accuracies"
   ]
  },
  {
   "cell_type": "code",
   "execution_count": 28,
   "id": "cb892b63",
   "metadata": {
    "execution": {
     "iopub.execute_input": "2025-05-02T20:09:45.352358Z",
     "iopub.status.busy": "2025-05-02T20:09:45.352083Z",
     "iopub.status.idle": "2025-05-02T20:09:45.355976Z",
     "shell.execute_reply": "2025-05-02T20:09:45.355358Z",
     "shell.execute_reply.started": "2025-05-02T20:09:45.352337Z"
    },
    "executionInfo": {
     "elapsed": 1309,
     "status": "ok",
     "timestamp": 1604164555141,
     "user": {
      "displayName": "Eduardo Muñoz Sala",
      "photoUrl": "https://lh3.googleusercontent.com/a-/AOh14Gi9gTFB7xfdxQyNiKRUzqE5vwb9WQjQuMtQz5F16w=s64",
      "userId": "13317831924226771761"
     },
     "user_tz": -60
    },
    "id": "QGmrQfakTKUV",
    "papermill": {
     "duration": 0.012286,
     "end_time": "2025-04-29T16:17:52.826788",
     "exception": false,
     "start_time": "2025-04-29T16:17:52.814502",
     "status": "completed"
    },
    "tags": [],
    "trusted": true
   },
   "outputs": [],
   "source": [
    "# Set hyperparamters for the model\n",
    "D_MODEL = 512 # 512\n",
    "N_LAYERS = 4 # 6\n",
    "FFN_UNITS = 512 # 2048\n",
    "N_HEADS = 8 # 8\n",
    "DROPOUT_RATE = 0.1 # 0.1\n"
   ]
  },
  {
   "cell_type": "code",
   "execution_count": 29,
   "id": "e66b2518",
   "metadata": {
    "execution": {
     "iopub.execute_input": "2025-05-02T20:09:46.927547Z",
     "iopub.status.busy": "2025-05-02T20:09:46.927279Z",
     "iopub.status.idle": "2025-05-02T20:09:47.215055Z",
     "shell.execute_reply": "2025-05-02T20:09:47.214477Z",
     "shell.execute_reply.started": "2025-05-02T20:09:46.927527Z"
    },
    "executionInfo": {
     "elapsed": 888,
     "status": "ok",
     "timestamp": 1604164565188,
     "user": {
      "displayName": "Eduardo Muñoz Sala",
      "photoUrl": "https://lh3.googleusercontent.com/a-/AOh14Gi9gTFB7xfdxQyNiKRUzqE5vwb9WQjQuMtQz5F16w=s64",
      "userId": "13317831924226771761"
     },
     "user_tz": -60
    },
    "id": "qiOdqQ5qPs8z",
    "papermill": {
     "duration": 0.307811,
     "end_time": "2025-04-29T16:17:53.142140",
     "exception": false,
     "start_time": "2025-04-29T16:17:52.834329",
     "status": "completed"
    },
    "tags": [],
    "trusted": true
   },
   "outputs": [],
   "source": [
    "# Clean the session\n",
    "tf.keras.backend.clear_session()\n",
    "# Create the Transformer model\n",
    "transformer = Transformer(vocab_size_enc=num_words_inputs,\n",
    "                          vocab_size_dec=num_words_output,\n",
    "                          d_model=D_MODEL,\n",
    "                          n_layers=N_LAYERS,\n",
    "                          FFN_units=FFN_UNITS,\n",
    "                          n_heads=N_HEADS,\n",
    "                          dropout_rate=DROPOUT_RATE)\n",
    "\n",
    "# Define a categorical cross entropy loss\n",
    "loss_object = tf.keras.losses.SparseCategoricalCrossentropy(from_logits=True,\n",
    "                                                            reduction=\"none\")\n",
    "# Define a metric to store the mean loss of every epoch\n",
    "train_loss = tf.keras.metrics.Mean(name=\"train_loss\")\n",
    "# Define a matric to save the accuracy in every epoch\n",
    "train_accuracy = tf.keras.metrics.SparseCategoricalAccuracy(name=\"train_accuracy\")\n",
    "# Create the scheduler for learning rate decay\n",
    "leaning_rate = CustomSchedule(D_MODEL)\n",
    "# Create the Adam optimizer\n",
    "optimizer = tf.keras.optimizers.Adam(leaning_rate,\n",
    "                                     beta_1=0.9,\n",
    "                                     beta_2=0.98,\n",
    "                                     epsilon=1e-9)\n",
    "        "
   ]
  },
  {
   "cell_type": "code",
   "execution_count": 30,
   "id": "a6e6bb82",
   "metadata": {
    "execution": {
     "iopub.execute_input": "2025-05-02T20:09:49.096750Z",
     "iopub.status.busy": "2025-05-02T20:09:49.096031Z",
     "iopub.status.idle": "2025-05-02T20:09:49.101370Z",
     "shell.execute_reply": "2025-05-02T20:09:49.100604Z",
     "shell.execute_reply.started": "2025-05-02T20:09:49.096724Z"
    },
    "executionInfo": {
     "elapsed": 1883,
     "status": "ok",
     "timestamp": 1604164597668,
     "user": {
      "displayName": "Eduardo Muñoz Sala",
      "photoUrl": "https://lh3.googleusercontent.com/a-/AOh14Gi9gTFB7xfdxQyNiKRUzqE5vwb9WQjQuMtQz5F16w=s64",
      "userId": "13317831924226771761"
     },
     "user_tz": -60
    },
    "id": "Nb_32PIU5Zkh",
    "papermill": {
     "duration": 0.013239,
     "end_time": "2025-04-29T16:17:53.163415",
     "exception": false,
     "start_time": "2025-04-29T16:17:53.150176",
     "status": "completed"
    },
    "tags": [],
    "trusted": true
   },
   "outputs": [],
   "source": [
    "#Create the Checkpoint \n",
    "ckpt = tf.train.Checkpoint(transformer=transformer,\n",
    "                           optimizer=optimizer)\n",
    "\n",
    "ckpt_manager = tf.train.CheckpointManager(ckpt, checkpoint_path, max_to_keep=5)\n",
    "\n",
    "if ckpt_manager.latest_checkpoint:\n",
    "    ckpt.restore(ckpt_manager.latest_checkpoint)\n",
    "    print(\"Last checkpoint restored.\")"
   ]
  },
  {
   "cell_type": "code",
   "execution_count": 31,
   "id": "0b983f6f",
   "metadata": {
    "collapsed": true,
    "execution": {
     "iopub.execute_input": "2025-05-02T20:10:13.094250Z",
     "iopub.status.busy": "2025-05-02T20:10:13.093509Z",
     "iopub.status.idle": "2025-05-03T00:09:19.562821Z",
     "shell.execute_reply": "2025-05-03T00:09:19.562044Z",
     "shell.execute_reply.started": "2025-05-02T20:10:13.094224Z"
    },
    "executionInfo": {
     "elapsed": 4836773,
     "status": "ok",
     "timestamp": 1604169439296,
     "user": {
      "displayName": "Eduardo Muñoz Sala",
      "photoUrl": "https://lh3.googleusercontent.com/a-/AOh14Gi9gTFB7xfdxQyNiKRUzqE5vwb9WQjQuMtQz5F16w=s64",
      "userId": "13317831924226771761"
     },
     "user_tz": -60
    },
    "id": "ND0NAyshNWHD",
    "jupyter": {
     "outputs_hidden": true
    },
    "outputId": "14be75e6-f9a6-48d4-e248-0550dc859343",
    "papermill": {
     "duration": 6160.913275,
     "end_time": "2025-04-29T18:00:34.084416",
     "exception": false,
     "start_time": "2025-04-29T16:17:53.171141",
     "status": "completed"
    },
    "tags": [],
    "trusted": true
   },
   "outputs": [
    {
     "name": "stdout",
     "output_type": "stream",
     "text": [
      "Starting epoch 1\n"
     ]
    },
    {
     "name": "stderr",
     "output_type": "stream",
     "text": [
      "Epoch 1: 100%|██████████| 167/167 [03:35<00:00,  1.29s/it, accuracy=0.0628, loss=4.44] \n"
     ]
    },
    {
     "name": "stdout",
     "output_type": "stream",
     "text": [
      "Saving checkpoint for epoch 1 in ./checkpoints/train/ckpt-1\n",
      "Time for 1 epoch: 216.93 secs\n",
      "\n",
      "Starting epoch 2\n"
     ]
    },
    {
     "name": "stderr",
     "output_type": "stream",
     "text": [
      "Epoch 2: 100%|██████████| 167/167 [03:27<00:00,  1.24s/it, accuracy=0.16, loss=3.22] \n"
     ]
    },
    {
     "name": "stdout",
     "output_type": "stream",
     "text": [
      "Saving checkpoint for epoch 2 in ./checkpoints/train/ckpt-2\n",
      "Time for 1 epoch: 208.23 secs\n",
      "\n",
      "Starting epoch 3\n"
     ]
    },
    {
     "name": "stderr",
     "output_type": "stream",
     "text": [
      "Epoch 3: 100%|██████████| 167/167 [03:28<00:00,  1.25s/it, accuracy=0.206, loss=2.67]\n"
     ]
    },
    {
     "name": "stdout",
     "output_type": "stream",
     "text": [
      "Saving checkpoint for epoch 3 in ./checkpoints/train/ckpt-3\n",
      "Time for 1 epoch: 210.09 secs\n",
      "\n",
      "Starting epoch 4\n"
     ]
    },
    {
     "name": "stderr",
     "output_type": "stream",
     "text": [
      "Epoch 4: 100%|██████████| 167/167 [04:15<00:00,  1.53s/it, accuracy=0.231, loss=2.36]\n"
     ]
    },
    {
     "name": "stdout",
     "output_type": "stream",
     "text": [
      "Saving checkpoint for epoch 4 in ./checkpoints/train/ckpt-4\n",
      "Time for 1 epoch: 257.09 secs\n",
      "\n",
      "Starting epoch 5\n"
     ]
    },
    {
     "name": "stderr",
     "output_type": "stream",
     "text": [
      "Epoch 5: 100%|██████████| 167/167 [03:24<00:00,  1.22s/it, accuracy=0.256, loss=2.11]\n"
     ]
    },
    {
     "name": "stdout",
     "output_type": "stream",
     "text": [
      "Saving checkpoint for epoch 5 in ./checkpoints/train/ckpt-5\n",
      "Time for 1 epoch: 205.39 secs\n",
      "\n",
      "Starting epoch 6\n"
     ]
    },
    {
     "name": "stderr",
     "output_type": "stream",
     "text": [
      "Epoch 6: 100%|██████████| 167/167 [03:23<00:00,  1.22s/it, accuracy=0.279, loss=1.89]\n"
     ]
    },
    {
     "name": "stdout",
     "output_type": "stream",
     "text": [
      "Saving checkpoint for epoch 6 in ./checkpoints/train/ckpt-6\n",
      "Time for 1 epoch: 204.92 secs\n",
      "\n",
      "Starting epoch 7\n"
     ]
    },
    {
     "name": "stderr",
     "output_type": "stream",
     "text": [
      "Epoch 7: 100%|██████████| 167/167 [03:24<00:00,  1.22s/it, accuracy=0.301, loss=1.7] \n"
     ]
    },
    {
     "name": "stdout",
     "output_type": "stream",
     "text": [
      "Saving checkpoint for epoch 7 in ./checkpoints/train/ckpt-7\n",
      "Time for 1 epoch: 205.49 secs\n",
      "\n",
      "Starting epoch 8\n"
     ]
    },
    {
     "name": "stderr",
     "output_type": "stream",
     "text": [
      "Epoch 8: 100%|██████████| 167/167 [03:22<00:00,  1.22s/it, accuracy=0.322, loss=1.52]\n"
     ]
    },
    {
     "name": "stdout",
     "output_type": "stream",
     "text": [
      "Saving checkpoint for epoch 8 in ./checkpoints/train/ckpt-8\n",
      "Time for 1 epoch: 204.09 secs\n",
      "\n",
      "Starting epoch 9\n"
     ]
    },
    {
     "name": "stderr",
     "output_type": "stream",
     "text": [
      "Epoch 9: 100%|██████████| 167/167 [03:24<00:00,  1.22s/it, accuracy=0.345, loss=1.35]\n"
     ]
    },
    {
     "name": "stdout",
     "output_type": "stream",
     "text": [
      "Saving checkpoint for epoch 9 in ./checkpoints/train/ckpt-9\n",
      "Time for 1 epoch: 205.38 secs\n",
      "\n",
      "Starting epoch 10\n"
     ]
    },
    {
     "name": "stderr",
     "output_type": "stream",
     "text": [
      "Epoch 10: 100%|██████████| 167/167 [03:23<00:00,  1.22s/it, accuracy=0.367, loss=1.19]\n"
     ]
    },
    {
     "name": "stdout",
     "output_type": "stream",
     "text": [
      "Saving checkpoint for epoch 10 in ./checkpoints/train/ckpt-10\n",
      "Time for 1 epoch: 204.96 secs\n",
      "\n",
      "Starting epoch 11\n"
     ]
    },
    {
     "name": "stderr",
     "output_type": "stream",
     "text": [
      "Epoch 11: 100%|██████████| 167/167 [03:23<00:00,  1.22s/it, accuracy=0.388, loss=1.04]\n"
     ]
    },
    {
     "name": "stdout",
     "output_type": "stream",
     "text": [
      "Saving checkpoint for epoch 11 in ./checkpoints/train/ckpt-11\n",
      "Time for 1 epoch: 205.07 secs\n",
      "\n",
      "Starting epoch 12\n"
     ]
    },
    {
     "name": "stderr",
     "output_type": "stream",
     "text": [
      "Epoch 12: 100%|██████████| 167/167 [03:23<00:00,  1.22s/it, accuracy=0.408, loss=0.906]\n"
     ]
    },
    {
     "name": "stdout",
     "output_type": "stream",
     "text": [
      "Saving checkpoint for epoch 12 in ./checkpoints/train/ckpt-12\n",
      "Time for 1 epoch: 204.70 secs\n",
      "\n",
      "Starting epoch 13\n"
     ]
    },
    {
     "name": "stderr",
     "output_type": "stream",
     "text": [
      "Epoch 13: 100%|██████████| 167/167 [03:23<00:00,  1.22s/it, accuracy=0.43, loss=0.779] \n"
     ]
    },
    {
     "name": "stdout",
     "output_type": "stream",
     "text": [
      "Saving checkpoint for epoch 13 in ./checkpoints/train/ckpt-13\n",
      "Time for 1 epoch: 204.50 secs\n",
      "\n",
      "Starting epoch 14\n"
     ]
    },
    {
     "name": "stderr",
     "output_type": "stream",
     "text": [
      "Epoch 14: 100%|██████████| 167/167 [03:23<00:00,  1.22s/it, accuracy=0.448, loss=0.668]\n"
     ]
    },
    {
     "name": "stdout",
     "output_type": "stream",
     "text": [
      "Saving checkpoint for epoch 14 in ./checkpoints/train/ckpt-14\n",
      "Time for 1 epoch: 204.38 secs\n",
      "\n",
      "Starting epoch 15\n"
     ]
    },
    {
     "name": "stderr",
     "output_type": "stream",
     "text": [
      "Epoch 15: 100%|██████████| 167/167 [03:22<00:00,  1.21s/it, accuracy=0.463, loss=0.574]\n"
     ]
    },
    {
     "name": "stdout",
     "output_type": "stream",
     "text": [
      "Saving checkpoint for epoch 15 in ./checkpoints/train/ckpt-15\n",
      "Time for 1 epoch: 204.10 secs\n",
      "\n",
      "Starting epoch 16\n"
     ]
    },
    {
     "name": "stderr",
     "output_type": "stream",
     "text": [
      "Epoch 16: 100%|██████████| 167/167 [03:22<00:00,  1.21s/it, accuracy=0.478, loss=0.489]\n"
     ]
    },
    {
     "name": "stdout",
     "output_type": "stream",
     "text": [
      "Saving checkpoint for epoch 16 in ./checkpoints/train/ckpt-16\n",
      "Time for 1 epoch: 203.87 secs\n",
      "\n",
      "Starting epoch 17\n"
     ]
    },
    {
     "name": "stderr",
     "output_type": "stream",
     "text": [
      "Epoch 17: 100%|██████████| 167/167 [03:22<00:00,  1.21s/it, accuracy=0.489, loss=0.426]\n"
     ]
    },
    {
     "name": "stdout",
     "output_type": "stream",
     "text": [
      "Saving checkpoint for epoch 17 in ./checkpoints/train/ckpt-17\n",
      "Time for 1 epoch: 203.79 secs\n",
      "\n",
      "Starting epoch 18\n"
     ]
    },
    {
     "name": "stderr",
     "output_type": "stream",
     "text": [
      "Epoch 18: 100%|██████████| 167/167 [03:22<00:00,  1.21s/it, accuracy=0.499, loss=0.374]\n"
     ]
    },
    {
     "name": "stdout",
     "output_type": "stream",
     "text": [
      "Saving checkpoint for epoch 18 in ./checkpoints/train/ckpt-18\n",
      "Time for 1 epoch: 204.04 secs\n",
      "\n",
      "Starting epoch 19\n"
     ]
    },
    {
     "name": "stderr",
     "output_type": "stream",
     "text": [
      "Epoch 19: 100%|██████████| 167/167 [03:21<00:00,  1.21s/it, accuracy=0.505, loss=0.339]\n"
     ]
    },
    {
     "name": "stdout",
     "output_type": "stream",
     "text": [
      "Saving checkpoint for epoch 19 in ./checkpoints/train/ckpt-19\n",
      "Time for 1 epoch: 203.13 secs\n",
      "\n",
      "Starting epoch 20\n"
     ]
    },
    {
     "name": "stderr",
     "output_type": "stream",
     "text": [
      "Epoch 20: 100%|██████████| 167/167 [03:22<00:00,  1.21s/it, accuracy=0.512, loss=0.306]\n"
     ]
    },
    {
     "name": "stdout",
     "output_type": "stream",
     "text": [
      "Saving checkpoint for epoch 20 in ./checkpoints/train/ckpt-20\n",
      "Time for 1 epoch: 203.54 secs\n",
      "\n",
      "Starting epoch 21\n"
     ]
    },
    {
     "name": "stderr",
     "output_type": "stream",
     "text": [
      "Epoch 21: 100%|██████████| 167/167 [03:22<00:00,  1.21s/it, accuracy=0.517, loss=0.283]\n"
     ]
    },
    {
     "name": "stdout",
     "output_type": "stream",
     "text": [
      "Saving checkpoint for epoch 21 in ./checkpoints/train/ckpt-21\n",
      "Time for 1 epoch: 203.58 secs\n",
      "\n",
      "Starting epoch 22\n"
     ]
    },
    {
     "name": "stderr",
     "output_type": "stream",
     "text": [
      "Epoch 22: 100%|██████████| 167/167 [03:21<00:00,  1.21s/it, accuracy=0.517, loss=0.276]\n"
     ]
    },
    {
     "name": "stdout",
     "output_type": "stream",
     "text": [
      "Saving checkpoint for epoch 22 in ./checkpoints/train/ckpt-22\n",
      "Time for 1 epoch: 202.80 secs\n",
      "\n",
      "Starting epoch 23\n"
     ]
    },
    {
     "name": "stderr",
     "output_type": "stream",
     "text": [
      "Epoch 23: 100%|██████████| 167/167 [03:22<00:00,  1.21s/it, accuracy=0.519, loss=0.268]\n"
     ]
    },
    {
     "name": "stdout",
     "output_type": "stream",
     "text": [
      "Saving checkpoint for epoch 23 in ./checkpoints/train/ckpt-23\n",
      "Time for 1 epoch: 203.28 secs\n",
      "\n",
      "Starting epoch 24\n"
     ]
    },
    {
     "name": "stderr",
     "output_type": "stream",
     "text": [
      "Epoch 24: 100%|██████████| 167/167 [03:22<00:00,  1.21s/it, accuracy=0.518, loss=0.266]\n"
     ]
    },
    {
     "name": "stdout",
     "output_type": "stream",
     "text": [
      "Saving checkpoint for epoch 24 in ./checkpoints/train/ckpt-24\n",
      "Time for 1 epoch: 203.44 secs\n",
      "\n",
      "Starting epoch 25\n"
     ]
    },
    {
     "name": "stderr",
     "output_type": "stream",
     "text": [
      "Epoch 25: 100%|██████████| 167/167 [03:21<00:00,  1.21s/it, accuracy=0.52, loss=0.257] \n"
     ]
    },
    {
     "name": "stdout",
     "output_type": "stream",
     "text": [
      "Saving checkpoint for epoch 25 in ./checkpoints/train/ckpt-25\n",
      "Time for 1 epoch: 203.14 secs\n",
      "\n",
      "Starting epoch 26\n"
     ]
    },
    {
     "name": "stderr",
     "output_type": "stream",
     "text": [
      "Epoch 26: 100%|██████████| 167/167 [03:22<00:00,  1.21s/it, accuracy=0.526, loss=0.234]\n"
     ]
    },
    {
     "name": "stdout",
     "output_type": "stream",
     "text": [
      "Saving checkpoint for epoch 26 in ./checkpoints/train/ckpt-26\n",
      "Time for 1 epoch: 203.50 secs\n",
      "\n",
      "Starting epoch 27\n"
     ]
    },
    {
     "name": "stderr",
     "output_type": "stream",
     "text": [
      "Epoch 27: 100%|██████████| 167/167 [03:21<00:00,  1.21s/it, accuracy=0.53, loss=0.219] \n"
     ]
    },
    {
     "name": "stdout",
     "output_type": "stream",
     "text": [
      "Saving checkpoint for epoch 27 in ./checkpoints/train/ckpt-27\n",
      "Time for 1 epoch: 202.97 secs\n",
      "\n",
      "Starting epoch 28\n"
     ]
    },
    {
     "name": "stderr",
     "output_type": "stream",
     "text": [
      "Epoch 28: 100%|██████████| 167/167 [03:22<00:00,  1.21s/it, accuracy=0.535, loss=0.197]\n"
     ]
    },
    {
     "name": "stdout",
     "output_type": "stream",
     "text": [
      "Saving checkpoint for epoch 28 in ./checkpoints/train/ckpt-28\n",
      "Time for 1 epoch: 203.85 secs\n",
      "\n",
      "Starting epoch 29\n"
     ]
    },
    {
     "name": "stderr",
     "output_type": "stream",
     "text": [
      "Epoch 29: 100%|██████████| 167/167 [03:21<00:00,  1.21s/it, accuracy=0.54, loss=0.18]  \n"
     ]
    },
    {
     "name": "stdout",
     "output_type": "stream",
     "text": [
      "Saving checkpoint for epoch 29 in ./checkpoints/train/ckpt-29\n",
      "Time for 1 epoch: 203.18 secs\n",
      "\n",
      "Starting epoch 30\n"
     ]
    },
    {
     "name": "stderr",
     "output_type": "stream",
     "text": [
      "Epoch 30: 100%|██████████| 167/167 [03:22<00:00,  1.21s/it, accuracy=0.543, loss=0.17] \n"
     ]
    },
    {
     "name": "stdout",
     "output_type": "stream",
     "text": [
      "Saving checkpoint for epoch 30 in ./checkpoints/train/ckpt-30\n",
      "Time for 1 epoch: 203.76 secs\n",
      "\n",
      "Starting epoch 31\n"
     ]
    },
    {
     "name": "stderr",
     "output_type": "stream",
     "text": [
      "Epoch 31: 100%|██████████| 167/167 [03:21<00:00,  1.21s/it, accuracy=0.546, loss=0.156]\n"
     ]
    },
    {
     "name": "stdout",
     "output_type": "stream",
     "text": [
      "Saving checkpoint for epoch 31 in ./checkpoints/train/ckpt-31\n",
      "Time for 1 epoch: 203.03 secs\n",
      "\n",
      "Starting epoch 32\n"
     ]
    },
    {
     "name": "stderr",
     "output_type": "stream",
     "text": [
      "Epoch 32: 100%|██████████| 167/167 [03:22<00:00,  1.21s/it, accuracy=0.549, loss=0.147]\n"
     ]
    },
    {
     "name": "stdout",
     "output_type": "stream",
     "text": [
      "Saving checkpoint for epoch 32 in ./checkpoints/train/ckpt-32\n",
      "Time for 1 epoch: 203.41 secs\n",
      "\n",
      "Starting epoch 33\n"
     ]
    },
    {
     "name": "stderr",
     "output_type": "stream",
     "text": [
      "Epoch 33: 100%|██████████| 167/167 [03:22<00:00,  1.21s/it, accuracy=0.552, loss=0.138]\n"
     ]
    },
    {
     "name": "stdout",
     "output_type": "stream",
     "text": [
      "Saving checkpoint for epoch 33 in ./checkpoints/train/ckpt-33\n",
      "Time for 1 epoch: 203.59 secs\n",
      "\n",
      "Starting epoch 34\n"
     ]
    },
    {
     "name": "stderr",
     "output_type": "stream",
     "text": [
      "Epoch 34: 100%|██████████| 167/167 [03:21<00:00,  1.21s/it, accuracy=0.553, loss=0.13] \n"
     ]
    },
    {
     "name": "stdout",
     "output_type": "stream",
     "text": [
      "Saving checkpoint for epoch 34 in ./checkpoints/train/ckpt-34\n",
      "Time for 1 epoch: 203.14 secs\n",
      "\n",
      "Starting epoch 35\n"
     ]
    },
    {
     "name": "stderr",
     "output_type": "stream",
     "text": [
      "Epoch 35: 100%|██████████| 167/167 [03:22<00:00,  1.21s/it, accuracy=0.557, loss=0.122]\n"
     ]
    },
    {
     "name": "stdout",
     "output_type": "stream",
     "text": [
      "Saving checkpoint for epoch 35 in ./checkpoints/train/ckpt-35\n",
      "Time for 1 epoch: 203.93 secs\n",
      "\n",
      "Starting epoch 36\n"
     ]
    },
    {
     "name": "stderr",
     "output_type": "stream",
     "text": [
      "Epoch 36: 100%|██████████| 167/167 [03:22<00:00,  1.21s/it, accuracy=0.559, loss=0.115]\n"
     ]
    },
    {
     "name": "stdout",
     "output_type": "stream",
     "text": [
      "Saving checkpoint for epoch 36 in ./checkpoints/train/ckpt-36\n",
      "Time for 1 epoch: 203.53 secs\n",
      "\n",
      "Starting epoch 37\n"
     ]
    },
    {
     "name": "stderr",
     "output_type": "stream",
     "text": [
      "Epoch 37: 100%|██████████| 167/167 [03:22<00:00,  1.21s/it, accuracy=0.56, loss=0.109] \n"
     ]
    },
    {
     "name": "stdout",
     "output_type": "stream",
     "text": [
      "Saving checkpoint for epoch 37 in ./checkpoints/train/ckpt-37\n",
      "Time for 1 epoch: 204.12 secs\n",
      "\n",
      "Starting epoch 38\n"
     ]
    },
    {
     "name": "stderr",
     "output_type": "stream",
     "text": [
      "Epoch 38: 100%|██████████| 167/167 [03:22<00:00,  1.21s/it, accuracy=0.56, loss=0.108] \n"
     ]
    },
    {
     "name": "stdout",
     "output_type": "stream",
     "text": [
      "Saving checkpoint for epoch 38 in ./checkpoints/train/ckpt-38\n",
      "Time for 1 epoch: 203.83 secs\n",
      "\n",
      "Starting epoch 39\n"
     ]
    },
    {
     "name": "stderr",
     "output_type": "stream",
     "text": [
      "Epoch 39: 100%|██████████| 167/167 [03:22<00:00,  1.21s/it, accuracy=0.562, loss=0.0993]\n"
     ]
    },
    {
     "name": "stdout",
     "output_type": "stream",
     "text": [
      "Saving checkpoint for epoch 39 in ./checkpoints/train/ckpt-39\n",
      "Time for 1 epoch: 203.76 secs\n",
      "\n",
      "Starting epoch 40\n"
     ]
    },
    {
     "name": "stderr",
     "output_type": "stream",
     "text": [
      "Epoch 40: 100%|██████████| 167/167 [03:23<00:00,  1.22s/it, accuracy=0.564, loss=0.094] \n"
     ]
    },
    {
     "name": "stdout",
     "output_type": "stream",
     "text": [
      "Saving checkpoint for epoch 40 in ./checkpoints/train/ckpt-40\n",
      "Time for 1 epoch: 204.55 secs\n",
      "\n",
      "Starting epoch 41\n"
     ]
    },
    {
     "name": "stderr",
     "output_type": "stream",
     "text": [
      "Epoch 41: 100%|██████████| 167/167 [03:23<00:00,  1.22s/it, accuracy=0.564, loss=0.0936]\n"
     ]
    },
    {
     "name": "stdout",
     "output_type": "stream",
     "text": [
      "Saving checkpoint for epoch 41 in ./checkpoints/train/ckpt-41\n",
      "Time for 1 epoch: 204.26 secs\n",
      "\n",
      "Starting epoch 42\n"
     ]
    },
    {
     "name": "stderr",
     "output_type": "stream",
     "text": [
      "Epoch 42: 100%|██████████| 167/167 [03:22<00:00,  1.21s/it, accuracy=0.567, loss=0.0863]\n"
     ]
    },
    {
     "name": "stdout",
     "output_type": "stream",
     "text": [
      "Saving checkpoint for epoch 42 in ./checkpoints/train/ckpt-42\n",
      "Time for 1 epoch: 203.43 secs\n",
      "\n",
      "Starting epoch 43\n"
     ]
    },
    {
     "name": "stderr",
     "output_type": "stream",
     "text": [
      "Epoch 43: 100%|██████████| 167/167 [03:22<00:00,  1.21s/it, accuracy=0.567, loss=0.083] \n"
     ]
    },
    {
     "name": "stdout",
     "output_type": "stream",
     "text": [
      "Saving checkpoint for epoch 43 in ./checkpoints/train/ckpt-43\n",
      "Time for 1 epoch: 204.14 secs\n",
      "\n",
      "Starting epoch 44\n"
     ]
    },
    {
     "name": "stderr",
     "output_type": "stream",
     "text": [
      "Epoch 44: 100%|██████████| 167/167 [03:21<00:00,  1.21s/it, accuracy=0.567, loss=0.0817]\n"
     ]
    },
    {
     "name": "stdout",
     "output_type": "stream",
     "text": [
      "Saving checkpoint for epoch 44 in ./checkpoints/train/ckpt-44\n",
      "Time for 1 epoch: 203.06 secs\n",
      "\n",
      "Starting epoch 45\n"
     ]
    },
    {
     "name": "stderr",
     "output_type": "stream",
     "text": [
      "Epoch 45: 100%|██████████| 167/167 [03:22<00:00,  1.21s/it, accuracy=0.569, loss=0.0771]\n"
     ]
    },
    {
     "name": "stdout",
     "output_type": "stream",
     "text": [
      "Saving checkpoint for epoch 45 in ./checkpoints/train/ckpt-45\n",
      "Time for 1 epoch: 203.84 secs\n",
      "\n",
      "Starting epoch 46\n"
     ]
    },
    {
     "name": "stderr",
     "output_type": "stream",
     "text": [
      "Epoch 46: 100%|██████████| 167/167 [03:21<00:00,  1.21s/it, accuracy=0.569, loss=0.0729]\n"
     ]
    },
    {
     "name": "stdout",
     "output_type": "stream",
     "text": [
      "Saving checkpoint for epoch 46 in ./checkpoints/train/ckpt-46\n",
      "Time for 1 epoch: 203.01 secs\n",
      "\n",
      "Starting epoch 47\n"
     ]
    },
    {
     "name": "stderr",
     "output_type": "stream",
     "text": [
      "Epoch 47: 100%|██████████| 167/167 [03:22<00:00,  1.21s/it, accuracy=0.57, loss=0.0722] \n"
     ]
    },
    {
     "name": "stdout",
     "output_type": "stream",
     "text": [
      "Saving checkpoint for epoch 47 in ./checkpoints/train/ckpt-47\n",
      "Time for 1 epoch: 203.96 secs\n",
      "\n",
      "Starting epoch 48\n"
     ]
    },
    {
     "name": "stderr",
     "output_type": "stream",
     "text": [
      "Epoch 48: 100%|██████████| 167/167 [03:22<00:00,  1.21s/it, accuracy=0.571, loss=0.0684]\n"
     ]
    },
    {
     "name": "stdout",
     "output_type": "stream",
     "text": [
      "Saving checkpoint for epoch 48 in ./checkpoints/train/ckpt-48\n",
      "Time for 1 epoch: 203.31 secs\n",
      "\n",
      "Starting epoch 49\n"
     ]
    },
    {
     "name": "stderr",
     "output_type": "stream",
     "text": [
      "Epoch 49: 100%|██████████| 167/167 [03:22<00:00,  1.21s/it, accuracy=0.572, loss=0.0659]\n"
     ]
    },
    {
     "name": "stdout",
     "output_type": "stream",
     "text": [
      "Saving checkpoint for epoch 49 in ./checkpoints/train/ckpt-49\n",
      "Time for 1 epoch: 203.65 secs\n",
      "\n",
      "Starting epoch 50\n"
     ]
    },
    {
     "name": "stderr",
     "output_type": "stream",
     "text": [
      "Epoch 50: 100%|██████████| 167/167 [03:22<00:00,  1.21s/it, accuracy=0.571, loss=0.0674]\n"
     ]
    },
    {
     "name": "stdout",
     "output_type": "stream",
     "text": [
      "Saving checkpoint for epoch 50 in ./checkpoints/train/ckpt-50\n",
      "Time for 1 epoch: 203.48 secs\n",
      "\n",
      "Starting epoch 51\n"
     ]
    },
    {
     "name": "stderr",
     "output_type": "stream",
     "text": [
      "Epoch 51: 100%|██████████| 167/167 [03:21<00:00,  1.21s/it, accuracy=0.573, loss=0.063] \n"
     ]
    },
    {
     "name": "stdout",
     "output_type": "stream",
     "text": [
      "Saving checkpoint for epoch 51 in ./checkpoints/train/ckpt-51\n",
      "Time for 1 epoch: 203.05 secs\n",
      "\n",
      "Starting epoch 52\n"
     ]
    },
    {
     "name": "stderr",
     "output_type": "stream",
     "text": [
      "Epoch 52: 100%|██████████| 167/167 [03:22<00:00,  1.21s/it, accuracy=0.573, loss=0.0589]\n"
     ]
    },
    {
     "name": "stdout",
     "output_type": "stream",
     "text": [
      "Saving checkpoint for epoch 52 in ./checkpoints/train/ckpt-52\n",
      "Time for 1 epoch: 203.65 secs\n",
      "\n",
      "Starting epoch 53\n"
     ]
    },
    {
     "name": "stderr",
     "output_type": "stream",
     "text": [
      "Epoch 53: 100%|██████████| 167/167 [03:21<00:00,  1.21s/it, accuracy=0.573, loss=0.0598]\n"
     ]
    },
    {
     "name": "stdout",
     "output_type": "stream",
     "text": [
      "Saving checkpoint for epoch 53 in ./checkpoints/train/ckpt-53\n",
      "Time for 1 epoch: 203.24 secs\n",
      "\n",
      "Starting epoch 54\n"
     ]
    },
    {
     "name": "stderr",
     "output_type": "stream",
     "text": [
      "Epoch 54: 100%|██████████| 167/167 [03:21<00:00,  1.21s/it, accuracy=0.575, loss=0.0553]\n"
     ]
    },
    {
     "name": "stdout",
     "output_type": "stream",
     "text": [
      "Saving checkpoint for epoch 54 in ./checkpoints/train/ckpt-54\n",
      "Time for 1 epoch: 203.19 secs\n",
      "\n",
      "Starting epoch 55\n"
     ]
    },
    {
     "name": "stderr",
     "output_type": "stream",
     "text": [
      "Epoch 55: 100%|██████████| 167/167 [03:22<00:00,  1.21s/it, accuracy=0.574, loss=0.0574]\n"
     ]
    },
    {
     "name": "stdout",
     "output_type": "stream",
     "text": [
      "Saving checkpoint for epoch 55 in ./checkpoints/train/ckpt-55\n",
      "Time for 1 epoch: 203.57 secs\n",
      "\n",
      "Starting epoch 56\n"
     ]
    },
    {
     "name": "stderr",
     "output_type": "stream",
     "text": [
      "Epoch 56: 100%|██████████| 167/167 [03:21<00:00,  1.21s/it, accuracy=0.576, loss=0.0512]\n"
     ]
    },
    {
     "name": "stdout",
     "output_type": "stream",
     "text": [
      "Saving checkpoint for epoch 56 in ./checkpoints/train/ckpt-56\n",
      "Time for 1 epoch: 202.55 secs\n",
      "\n",
      "Starting epoch 57\n"
     ]
    },
    {
     "name": "stderr",
     "output_type": "stream",
     "text": [
      "Epoch 57: 100%|██████████| 167/167 [03:22<00:00,  1.21s/it, accuracy=0.575, loss=0.0531]\n"
     ]
    },
    {
     "name": "stdout",
     "output_type": "stream",
     "text": [
      "Saving checkpoint for epoch 57 in ./checkpoints/train/ckpt-57\n",
      "Time for 1 epoch: 204.10 secs\n",
      "\n",
      "Starting epoch 58\n"
     ]
    },
    {
     "name": "stderr",
     "output_type": "stream",
     "text": [
      "Epoch 58: 100%|██████████| 167/167 [03:22<00:00,  1.21s/it, accuracy=0.576, loss=0.0513]\n"
     ]
    },
    {
     "name": "stdout",
     "output_type": "stream",
     "text": [
      "Saving checkpoint for epoch 58 in ./checkpoints/train/ckpt-58\n",
      "Time for 1 epoch: 203.61 secs\n",
      "\n",
      "Starting epoch 59\n"
     ]
    },
    {
     "name": "stderr",
     "output_type": "stream",
     "text": [
      "Epoch 59: 100%|██████████| 167/167 [03:22<00:00,  1.21s/it, accuracy=0.576, loss=0.0492]\n"
     ]
    },
    {
     "name": "stdout",
     "output_type": "stream",
     "text": [
      "Saving checkpoint for epoch 59 in ./checkpoints/train/ckpt-59\n",
      "Time for 1 epoch: 203.74 secs\n",
      "\n",
      "Starting epoch 60\n"
     ]
    },
    {
     "name": "stderr",
     "output_type": "stream",
     "text": [
      "Epoch 60: 100%|██████████| 167/167 [03:21<00:00,  1.21s/it, accuracy=0.577, loss=0.0484]\n"
     ]
    },
    {
     "name": "stdout",
     "output_type": "stream",
     "text": [
      "Saving checkpoint for epoch 60 in ./checkpoints/train/ckpt-60\n",
      "Time for 1 epoch: 203.13 secs\n",
      "\n",
      "Starting epoch 61\n"
     ]
    },
    {
     "name": "stderr",
     "output_type": "stream",
     "text": [
      "Epoch 61: 100%|██████████| 167/167 [03:22<00:00,  1.21s/it, accuracy=0.577, loss=0.0493]\n"
     ]
    },
    {
     "name": "stdout",
     "output_type": "stream",
     "text": [
      "Saving checkpoint for epoch 61 in ./checkpoints/train/ckpt-61\n",
      "Time for 1 epoch: 203.80 secs\n",
      "\n",
      "Starting epoch 62\n"
     ]
    },
    {
     "name": "stderr",
     "output_type": "stream",
     "text": [
      "Epoch 62: 100%|██████████| 167/167 [03:22<00:00,  1.21s/it, accuracy=0.578, loss=0.0455]\n"
     ]
    },
    {
     "name": "stdout",
     "output_type": "stream",
     "text": [
      "Saving checkpoint for epoch 62 in ./checkpoints/train/ckpt-62\n",
      "Time for 1 epoch: 203.84 secs\n",
      "\n",
      "Starting epoch 63\n"
     ]
    },
    {
     "name": "stderr",
     "output_type": "stream",
     "text": [
      "Epoch 63: 100%|██████████| 167/167 [03:22<00:00,  1.21s/it, accuracy=0.578, loss=0.0461]\n"
     ]
    },
    {
     "name": "stdout",
     "output_type": "stream",
     "text": [
      "Saving checkpoint for epoch 63 in ./checkpoints/train/ckpt-63\n",
      "Time for 1 epoch: 203.82 secs\n",
      "\n",
      "Starting epoch 64\n"
     ]
    },
    {
     "name": "stderr",
     "output_type": "stream",
     "text": [
      "Epoch 64: 100%|██████████| 167/167 [03:23<00:00,  1.22s/it, accuracy=0.578, loss=0.0454]\n"
     ]
    },
    {
     "name": "stdout",
     "output_type": "stream",
     "text": [
      "Saving checkpoint for epoch 64 in ./checkpoints/train/ckpt-64\n",
      "Time for 1 epoch: 204.73 secs\n",
      "\n",
      "Starting epoch 65\n"
     ]
    },
    {
     "name": "stderr",
     "output_type": "stream",
     "text": [
      "Epoch 65: 100%|██████████| 167/167 [03:22<00:00,  1.21s/it, accuracy=0.579, loss=0.0433]\n"
     ]
    },
    {
     "name": "stdout",
     "output_type": "stream",
     "text": [
      "Saving checkpoint for epoch 65 in ./checkpoints/train/ckpt-65\n",
      "Time for 1 epoch: 203.92 secs\n",
      "\n",
      "Starting epoch 66\n"
     ]
    },
    {
     "name": "stderr",
     "output_type": "stream",
     "text": [
      "Epoch 66: 100%|██████████| 167/167 [03:23<00:00,  1.22s/it, accuracy=0.579, loss=0.0428]\n"
     ]
    },
    {
     "name": "stdout",
     "output_type": "stream",
     "text": [
      "Saving checkpoint for epoch 66 in ./checkpoints/train/ckpt-66\n",
      "Time for 1 epoch: 204.92 secs\n",
      "\n",
      "Starting epoch 67\n"
     ]
    },
    {
     "name": "stderr",
     "output_type": "stream",
     "text": [
      "Epoch 67: 100%|██████████| 167/167 [03:22<00:00,  1.21s/it, accuracy=0.579, loss=0.0415]\n"
     ]
    },
    {
     "name": "stdout",
     "output_type": "stream",
     "text": [
      "Saving checkpoint for epoch 67 in ./checkpoints/train/ckpt-67\n",
      "Time for 1 epoch: 204.13 secs\n",
      "\n",
      "Starting epoch 68\n"
     ]
    },
    {
     "name": "stderr",
     "output_type": "stream",
     "text": [
      "Epoch 68: 100%|██████████| 167/167 [03:22<00:00,  1.22s/it, accuracy=0.579, loss=0.0405]\n"
     ]
    },
    {
     "name": "stdout",
     "output_type": "stream",
     "text": [
      "Saving checkpoint for epoch 68 in ./checkpoints/train/ckpt-68\n",
      "Time for 1 epoch: 204.26 secs\n",
      "\n",
      "Starting epoch 69\n"
     ]
    },
    {
     "name": "stderr",
     "output_type": "stream",
     "text": [
      "Epoch 69: 100%|██████████| 167/167 [03:23<00:00,  1.22s/it, accuracy=0.58, loss=0.0394] \n"
     ]
    },
    {
     "name": "stdout",
     "output_type": "stream",
     "text": [
      "Saving checkpoint for epoch 69 in ./checkpoints/train/ckpt-69\n",
      "Time for 1 epoch: 204.66 secs\n",
      "\n",
      "Starting epoch 70\n"
     ]
    },
    {
     "name": "stderr",
     "output_type": "stream",
     "text": [
      "Epoch 70: 100%|██████████| 167/167 [03:23<00:00,  1.22s/it, accuracy=0.58, loss=0.0376] \n"
     ]
    },
    {
     "name": "stdout",
     "output_type": "stream",
     "text": [
      "Saving checkpoint for epoch 70 in ./checkpoints/train/ckpt-70\n",
      "Time for 1 epoch: 204.31 secs\n",
      "\n"
     ]
    }
   ],
   "source": [
    "# Train the model\n",
    "losses, accuracies = main_train(dataset, transformer, 70, 100)"
   ]
  },
  {
   "cell_type": "code",
   "execution_count": 41,
   "id": "b2ec5cc5-a2fd-430c-89db-78689577e046",
   "metadata": {
    "execution": {
     "iopub.execute_input": "2025-05-03T04:02:27.816801Z",
     "iopub.status.busy": "2025-05-03T04:02:27.816100Z",
     "iopub.status.idle": "2025-05-03T04:02:27.827588Z",
     "shell.execute_reply": "2025-05-03T04:02:27.827021Z",
     "shell.execute_reply.started": "2025-05-03T04:02:27.816779Z"
    },
    "trusted": true
   },
   "outputs": [],
   "source": [
    "### Save tokenizers using their native method\n",
    "tokenizer_inputs.save_to_file('tokenizer_inputs.subword')\n",
    "tokenizer_outputs.save_to_file('tokenizer_outputs.subword')"
   ]
  },
  {
   "cell_type": "code",
   "execution_count": 32,
   "id": "c552b06a",
   "metadata": {
    "execution": {
     "iopub.execute_input": "2025-05-03T00:17:20.233034Z",
     "iopub.status.busy": "2025-05-03T00:17:20.232254Z",
     "iopub.status.idle": "2025-05-03T00:17:20.558601Z",
     "shell.execute_reply": "2025-05-03T00:17:20.557867Z",
     "shell.execute_reply.started": "2025-05-03T00:17:20.233009Z"
    },
    "papermill": {
     "duration": 0.79052,
     "end_time": "2025-04-29T18:00:36.131925",
     "exception": false,
     "start_time": "2025-04-29T18:00:35.341405",
     "status": "completed"
    },
    "tags": [],
    "trusted": true
   },
   "outputs": [],
   "source": [
    "transformer.save_weights(\"arabic_to_english_transformer_weights.weights.h5\")"
   ]
  },
  {
   "cell_type": "code",
   "execution_count": 33,
   "id": "95616d96",
   "metadata": {
    "execution": {
     "iopub.execute_input": "2025-05-03T00:17:22.889856Z",
     "iopub.status.busy": "2025-05-03T00:17:22.889163Z",
     "iopub.status.idle": "2025-05-03T00:17:23.237059Z",
     "shell.execute_reply": "2025-05-03T00:17:23.236271Z",
     "shell.execute_reply.started": "2025-05-03T00:17:22.889831Z"
    },
    "executionInfo": {
     "elapsed": 1126,
     "status": "ok",
     "timestamp": 1604169624585,
     "user": {
      "displayName": "Eduardo Muñoz Sala",
      "photoUrl": "https://lh3.googleusercontent.com/a-/AOh14Gi9gTFB7xfdxQyNiKRUzqE5vwb9WQjQuMtQz5F16w=s64",
      "userId": "13317831924226771761"
     },
     "user_tz": -60
    },
    "id": "hGB3Lv7hthlL",
    "outputId": "6259aaab-db55-4455-ba13-5123b33ffff4",
    "papermill": {
     "duration": 0.932394,
     "end_time": "2025-04-29T18:00:37.495299",
     "exception": false,
     "start_time": "2025-04-29T18:00:36.562905",
     "status": "completed"
    },
    "tags": [],
    "trusted": true
   },
   "outputs": [
    {
     "data": {
      "image/png": "[encoded data removed]",
      "text/plain": [
       "<Figure size 1500x500 with 2 Axes>"
      ]
     },
     "metadata": {},
     "output_type": "display_data"
    }
   ],
   "source": [
    "fig, (ax1, ax2) = plt.subplots(1, 2, figsize=(15,5))\n",
    "# plot some data\n",
    "ax1.plot(losses, label='loss')\n",
    "#plt.plot(results.history['val_loss'], label='val_loss')\n",
    "ax1.set_title('Training Loss')\n",
    "ax1.legend()\n",
    "# accuracies\n",
    "ax2.plot(accuracies, label='acc')\n",
    "#plt.plot(results.history['val_accuracy_fn'], label='val_acc')\n",
    "ax2.set_title('Training Accuracy')\n",
    "ax2.legend()\n",
    "plt.show()"
   ]
  },
  {
   "cell_type": "code",
   "execution_count": 34,
   "id": "9555ec63",
   "metadata": {
    "execution": {
     "iopub.execute_input": "2025-05-03T00:17:38.419492Z",
     "iopub.status.busy": "2025-05-03T00:17:38.418709Z",
     "iopub.status.idle": "2025-05-03T00:17:38.426643Z",
     "shell.execute_reply": "2025-05-03T00:17:38.425941Z",
     "shell.execute_reply.started": "2025-05-03T00:17:38.419461Z"
    },
    "executionInfo": {
     "elapsed": 911,
     "status": "ok",
     "timestamp": 1604169631392,
     "user": {
      "displayName": "Eduardo Muñoz Sala",
      "photoUrl": "https://lh3.googleusercontent.com/a-/AOh14Gi9gTFB7xfdxQyNiKRUzqE5vwb9WQjQuMtQz5F16w=s64",
      "userId": "13317831924226771761"
     },
     "user_tz": -60
    },
    "id": "a6iJ7tPC-pk-",
    "papermill": {
     "duration": 0.463784,
     "end_time": "2025-04-29T18:00:38.414470",
     "exception": false,
     "start_time": "2025-04-29T18:00:37.950686",
     "status": "completed"
    },
    "tags": [],
    "trusted": true
   },
   "outputs": [],
   "source": [
    "def predict(inp_sentence, tokenizer_in, tokenizer_out, target_max_len):\n",
    "    # Tokenize the input sequence using the tokenizer_in\n",
    "    inp_sentence = sos_token_input + tokenizer_in.encode(inp_sentence) + eos_token_input\n",
    "    enc_input = tf.expand_dims(inp_sentence, axis=0)\n",
    "\n",
    "    # Set the initial output sentence to sos\n",
    "    out_sentence = sos_token_output\n",
    "    # Reshape the output\n",
    "    output = tf.expand_dims(out_sentence, axis=0)\n",
    "\n",
    "    # For max target len tokens\n",
    "    for _ in range(target_max_len):\n",
    "        # Call the transformer and get the logits \n",
    "        predictions = transformer(enc_input, output, training=False) #(1, seq_length, VOCAB_SIZE_ES)\n",
    "        # Extract the logists of the next word\n",
    "        prediction = predictions[:, -1:, :]\n",
    "        # The highest probability is taken\n",
    "        predicted_id = tf.cast(tf.argmax(prediction, axis=-1), tf.int32)\n",
    "        # Check if it is the eos token\n",
    "        if predicted_id == eos_token_output:\n",
    "            return tf.squeeze(output, axis=0)\n",
    "        # Concat the predicted word to the output sequence\n",
    "        output = tf.concat([output, predicted_id], axis=-1)\n",
    "\n",
    "    return tf.squeeze(output, axis=0)"
   ]
  },
  {
   "cell_type": "code",
   "execution_count": 35,
   "id": "1ab3040f",
   "metadata": {
    "execution": {
     "iopub.execute_input": "2025-05-03T00:17:39.768851Z",
     "iopub.status.busy": "2025-05-03T00:17:39.768252Z",
     "iopub.status.idle": "2025-05-03T00:17:39.772871Z",
     "shell.execute_reply": "2025-05-03T00:17:39.772180Z",
     "shell.execute_reply.started": "2025-05-03T00:17:39.768830Z"
    },
    "executionInfo": {
     "elapsed": 961,
     "status": "ok",
     "timestamp": 1604169634817,
     "user": {
      "displayName": "Eduardo Muñoz Sala",
      "photoUrl": "https://lh3.googleusercontent.com/a-/AOh14Gi9gTFB7xfdxQyNiKRUzqE5vwb9WQjQuMtQz5F16w=s64",
      "userId": "13317831924226771761"
     },
     "user_tz": -60
    },
    "id": "s6VeFKrE6Kdx",
    "papermill": {
     "duration": 0.409761,
     "end_time": "2025-04-29T18:00:39.222265",
     "exception": false,
     "start_time": "2025-04-29T18:00:38.812504",
     "status": "completed"
    },
    "tags": [],
    "trusted": true
   },
   "outputs": [],
   "source": [
    "def translate(sentence):\n",
    "    # Get the predicted sequence for the input sentence\n",
    "    output = predict(sentence, tokenizer_inputs, tokenizer_outputs, MAX_LENGTH).numpy()\n",
    "    # Transform the sequence of tokens to a sentence\n",
    "    predicted_sentence = tokenizer_outputs.decode(\n",
    "        [i for i in output if i < sos_token_output]\n",
    "    )\n",
    "\n",
    "    return predicted_sentence"
   ]
  },
  {
   "cell_type": "markdown",
   "id": "48f6c691-6a67-4e92-a064-4ffde11f5f9e",
   "metadata": {},
   "source": [
    "## BLEU Score Calculation Overview\n",
    "\n",
    "### What is BLEU?\n",
    "The **BLEU (Bilingual Evaluation Understudy) score** is a metric used to evaluate the quality of machine-generated translations by comparing them to human-generated reference translations. The higher the BLEU score, the more similar the model’s translations are to human translations.\n",
    "\n",
    "### Process:\n",
    "\n",
    "1. **Tokenization**: Input sentences are tokenized and decoded into readable text.\n",
    "2. **Translation Prediction**: The model generates translations (hypotheses) for the input sentences.\n",
    "3. **Comparison**: The model’s predictions are compared to human translations (references).\n",
    "4. **BLEU Calculation**: The BLEU score is computed based on n-gram overlap between the predictions and references, with a brevity penalty to avoid overly short translations being rewarded.\n",
    "\n",
    "### Final Score:\n",
    "The BLEU score is printed after processing the entire dataset. A higher score means the translation model is performing well, closely matching human translations.\n",
    "\n",
    "### Conclusion:\n",
    "The BLEU score provides an automated way to evaluate machine translation performance by comparing generated sentences to reference translations."
   ]
  },
  {
   "cell_type": "code",
   "execution_count": 36,
   "id": "13923182",
   "metadata": {
    "execution": {
     "iopub.execute_input": "2025-05-03T00:17:41.461535Z",
     "iopub.status.busy": "2025-05-03T00:17:41.461050Z",
     "iopub.status.idle": "2025-05-03T00:17:41.534127Z",
     "shell.execute_reply": "2025-05-03T00:17:41.533608Z",
     "shell.execute_reply.started": "2025-05-03T00:17:41.461513Z"
    },
    "papermill": {
     "duration": 0.56781,
     "end_time": "2025-04-29T18:00:40.239682",
     "exception": false,
     "start_time": "2025-04-29T18:00:39.671872",
     "status": "completed"
    },
    "tags": [],
    "trusted": true
   },
   "outputs": [],
   "source": [
    "import sacrebleu\n",
    "\n",
    "def evaluate_bleu_post_training(dataset, transformer, tokenizer_in, tokenizer_out, max_length):\n",
    "    \"\"\"Calculate BLEU score on the entire dataset after training.\"\"\"\n",
    "    references = []\n",
    "    hypotheses = []\n",
    "    \n",
    "    # Iterate over the entire dataset\n",
    "    for enc_inputs, targets in dataset:\n",
    "        # Process each sentence in the batch\n",
    "        for enc_input, target in zip(enc_inputs.numpy(), targets.numpy()):\n",
    "            # Decode input and target to text\n",
    "            input_sentence = tokenizer_in.decode([i for i in enc_input if i < sos_token_input])\n",
    "            target_sentence = tokenizer_out.decode([i for i in target if i < sos_token_output])\n",
    "            \n",
    "            # Predict translation\n",
    "            predicted_sentence = translate(input_sentence)\n",
    "            \n",
    "            # Store reference and hypothesis\n",
    "            references.append([target_sentence])  # BLEU expects a list of references\n",
    "            hypotheses.append(predicted_sentence)\n",
    "    \n",
    "    # Compute BLEU score\n",
    "    bleu_score = sacrebleu.corpus_bleu(hypotheses, references).score\n",
    "    return bleu_score"
   ]
  },
  {
   "cell_type": "code",
   "execution_count": 37,
   "id": "6e67dead",
   "metadata": {
    "execution": {
     "iopub.execute_input": "2025-05-03T00:17:44.306833Z",
     "iopub.status.busy": "2025-05-03T00:17:44.306134Z",
     "iopub.status.idle": "2025-05-03T03:59:41.184762Z",
     "shell.execute_reply": "2025-05-03T03:59:41.184026Z",
     "shell.execute_reply.started": "2025-05-03T00:17:44.306809Z"
    },
    "papermill": {
     "duration": 13519.724843,
     "end_time": "2025-04-29T21:46:00.355820",
     "exception": false,
     "start_time": "2025-04-29T18:00:40.630977",
     "status": "completed"
    },
    "tags": [],
    "trusted": true
   },
   "outputs": [
    {
     "name": "stdout",
     "output_type": "stream",
     "text": [
      "Computing BLEU score on the entire dataset after training...\n",
      "Final BLEU score: 100.00\n"
     ]
    }
   ],
   "source": [
    "# Compute BLEU score on the entire dataset after training\n",
    "print(\"Computing BLEU score on the entire dataset after training...\")\n",
    "bleu_score = evaluate_bleu_post_training(dataset, transformer, tokenizer_inputs, tokenizer_outputs, MAX_LENGTH)\n",
    "print(f\"Final BLEU score: {bleu_score:.2f}\")"
   ]
  },
  {
   "cell_type": "code",
   "execution_count": null,
   "id": "d6cee241",
   "metadata": {},
   "outputs": [],
   "source": []
  },
  {
   "cell_type": "code",
   "execution_count": 43,
   "id": "93fa6f66",
   "metadata": {
    "execution": {
     "iopub.execute_input": "2025-05-03T04:03:28.864362Z",
     "iopub.status.busy": "2025-05-03T04:03:28.864097Z",
     "iopub.status.idle": "2025-05-03T04:03:29.789564Z",
     "shell.execute_reply": "2025-05-03T04:03:29.788958Z",
     "shell.execute_reply.started": "2025-05-03T04:03:28.864341Z"
    },
    "executionInfo": {
     "elapsed": 1387,
     "status": "ok",
     "timestamp": 1604169644539,
     "user": {
      "displayName": "Eduardo Muñoz Sala",
      "photoUrl": "https://lh3.googleusercontent.com/a-/AOh14Gi9gTFB7xfdxQyNiKRUzqE5vwb9WQjQuMtQz5F16w=s64",
      "userId": "13317831924226771761"
     },
     "user_tz": -60
    },
    "id": "AFTOO58Ncjiu",
    "outputId": "8e4b4473-0939-4f10-a954-8887b2168f0a",
    "papermill": {
     "duration": 1.335933,
     "end_time": "2025-04-29T21:46:02.086668",
     "exception": false,
     "start_time": "2025-04-29T21:46:00.750735",
     "status": "completed"
    },
    "tags": [],
    "trusted": true
   },
   "outputs": [
    {
     "name": "stdout",
     "output_type": "stream",
     "text": [
      "Input sentence: أنا أحب تعلم اللغات\n",
      "Output sentence: I like studying languages.\n"
     ]
    }
   ],
   "source": [
    "#Show some translations\n",
    "sentence = \"أنا أحب تعلم اللغات\"\n",
    "print(\"Input sentence: {}\".format(sentence))\n",
    "predicted_sentence = translate(sentence)\n",
    "print(\"Output sentence: {}\".format(predicted_sentence))"
   ]
  },
  {
   "cell_type": "code",
   "execution_count": 44,
   "id": "61a664a4",
   "metadata": {
    "execution": {
     "iopub.execute_input": "2025-05-03T04:03:37.236077Z",
     "iopub.status.busy": "2025-05-03T04:03:37.235551Z",
     "iopub.status.idle": "2025-05-03T04:03:38.480977Z",
     "shell.execute_reply": "2025-05-03T04:03:38.480344Z",
     "shell.execute_reply.started": "2025-05-03T04:03:37.236054Z"
    },
    "executionInfo": {
     "elapsed": 1236,
     "status": "ok",
     "timestamp": 1604169658722,
     "user": {
      "displayName": "Eduardo Muñoz Sala",
      "photoUrl": "https://lh3.googleusercontent.com/a-/AOh14Gi9gTFB7xfdxQyNiKRUzqE5vwb9WQjQuMtQz5F16w=s64",
      "userId": "13317831924226771761"
     },
     "user_tz": -60
    },
    "id": "ZdoWKbCP7Czs",
    "outputId": "98fc6afc-576a-48a4-c9f9-6f4be871b870",
    "papermill": {
     "duration": 1.62229,
     "end_time": "2025-04-29T21:46:04.181439",
     "exception": false,
     "start_time": "2025-04-29T21:46:02.559149",
     "status": "completed"
    },
    "tags": [],
    "trusted": true
   },
   "outputs": [
    {
     "name": "stdout",
     "output_type": "stream",
     "text": [
      "Input sentence: أين تقع أقرب محطة قطار؟\n",
      "Output sentence: Where is the closest train station?\n"
     ]
    }
   ],
   "source": [
    "#Show some translations\n",
    "sentence = \"أين تقع أقرب محطة قطار؟\"\n",
    "print(\"Input sentence: {}\".format(sentence))\n",
    "predicted_sentence = translate(sentence)\n",
    "print(\"Output sentence: {}\".format(predicted_sentence))"
   ]
  },
  {
   "cell_type": "code",
   "execution_count": 45,
   "id": "d68534e0",
   "metadata": {
    "execution": {
     "iopub.execute_input": "2025-05-03T04:03:42.522114Z",
     "iopub.status.busy": "2025-05-03T04:03:42.521550Z",
     "iopub.status.idle": "2025-05-03T04:03:43.440828Z",
     "shell.execute_reply": "2025-05-03T04:03:43.440063Z",
     "shell.execute_reply.started": "2025-05-03T04:03:42.522092Z"
    },
    "executionInfo": {
     "elapsed": 1412,
     "status": "ok",
     "timestamp": 1604169665649,
     "user": {
      "displayName": "Eduardo Muñoz Sala",
      "photoUrl": "https://lh3.googleusercontent.com/a-/AOh14Gi9gTFB7xfdxQyNiKRUzqE5vwb9WQjQuMtQz5F16w=s64",
      "userId": "13317831924226771761"
     },
     "user_tz": -60
    },
    "id": "UGjBEb5WFMGt",
    "outputId": "bdf8d1f1-f827-4ef4-e69b-e6bfc0ed5538",
    "papermill": {
     "duration": 1.789909,
     "end_time": "2025-04-29T21:46:06.363844",
     "exception": false,
     "start_time": "2025-04-29T21:46:04.573935",
     "status": "completed"
    },
    "tags": [],
    "trusted": true
   },
   "outputs": [
    {
     "name": "stdout",
     "output_type": "stream",
     "text": [
      "Input sentence: هل يمكنك مساعدتي، من فضلك؟\n",
      "Output sentence: Could you help me?\n"
     ]
    }
   ],
   "source": [
    "#Show some translations\n",
    "sentence = \"هل يمكنك مساعدتي، من فضلك؟\"\n",
    "print(\"Input sentence: {}\".format(sentence))\n",
    "predicted_sentence = translate(sentence)\n",
    "print(\"Output sentence: {}\".format(predicted_sentence))"
   ]
  },
  {
   "cell_type": "code",
   "execution_count": 46,
   "id": "f87cfc04-eac1-45f7-8e45-0474e22f5ecf",
   "metadata": {
    "execution": {
     "iopub.execute_input": "2025-05-03T04:04:13.695541Z",
     "iopub.status.busy": "2025-05-03T04:04:13.694975Z",
     "iopub.status.idle": "2025-05-03T04:04:14.761402Z",
     "shell.execute_reply": "2025-05-03T04:04:14.760817Z",
     "shell.execute_reply.started": "2025-05-03T04:04:13.695521Z"
    },
    "trusted": true
   },
   "outputs": [
    {
     "name": "stdout",
     "output_type": "stream",
     "text": [
      "Input sentence: ما اسمك؟\n",
      "Output sentence: What's your name?\n"
     ]
    }
   ],
   "source": [
    "sentence = \"ما اسمك؟\"\n",
    "print(\"Input sentence: {}\".format(sentence))\n",
    "predicted_sentence = translate(sentence)\n",
    "print(\"Output sentence: {}\".format(predicted_sentence))"
   ]
  },
  {
   "cell_type": "code",
   "execution_count": 47,
   "id": "55f125a0-4d06-430b-aaa6-0cce96610050",
   "metadata": {
    "execution": {
     "iopub.execute_input": "2025-05-03T04:04:28.737654Z",
     "iopub.status.busy": "2025-05-03T04:04:28.736939Z",
     "iopub.status.idle": "2025-05-03T04:04:29.652727Z",
     "shell.execute_reply": "2025-05-03T04:04:29.652107Z",
     "shell.execute_reply.started": "2025-05-03T04:04:28.737629Z"
    },
    "trusted": true
   },
   "outputs": [
    {
     "name": "stdout",
     "output_type": "stream",
     "text": [
      "Input sentence: أنا لا أفهم.\n",
      "Output sentence: I do not understand.\n"
     ]
    }
   ],
   "source": [
    "sentence = \"أنا لا أفهم.\"\n",
    "print(\"Input sentence: {}\".format(sentence))\n",
    "predicted_sentence = translate(sentence)\n",
    "print(\"Output sentence: {}\".format(predicted_sentence))"
   ]
  },
  {
   "cell_type": "code",
   "execution_count": 48,
   "id": "934067db-10eb-4cdf-bfc5-27db55e45849",
   "metadata": {
    "execution": {
     "iopub.execute_input": "2025-05-03T04:04:36.711317Z",
     "iopub.status.busy": "2025-05-03T04:04:36.711046Z",
     "iopub.status.idle": "2025-05-03T04:04:37.623155Z",
     "shell.execute_reply": "2025-05-03T04:04:37.622549Z",
     "shell.execute_reply.started": "2025-05-03T04:04:36.711297Z"
    },
    "trusted": true
   },
   "outputs": [
    {
     "name": "stdout",
     "output_type": "stream",
     "text": [
      "Input sentence: كم الساعة الآن؟\n",
      "Output sentence: What time is it?\n"
     ]
    }
   ],
   "source": [
    "sentence = \"كم الساعة الآن؟\"\n",
    "print(\"Input sentence: {}\".format(sentence))\n",
    "predicted_sentence = translate(sentence)\n",
    "print(\"Output sentence: {}\".format(predicted_sentence))"
   ]
  },
  {
   "cell_type": "code",
   "execution_count": 52,
   "id": "2242fe1c-51f7-4627-94f0-7dff2712754e",
   "metadata": {
    "execution": {
     "iopub.execute_input": "2025-05-03T04:06:32.774000Z",
     "iopub.status.busy": "2025-05-03T04:06:32.773427Z",
     "iopub.status.idle": "2025-05-03T04:06:33.694830Z",
     "shell.execute_reply": "2025-05-03T04:06:33.694156Z",
     "shell.execute_reply.started": "2025-05-03T04:06:32.773976Z"
    },
    "trusted": true
   },
   "outputs": [
    {
     "name": "stdout",
     "output_type": "stream",
     "text": [
      "Input sentence: أنا جائع.\n",
      "Output sentence: I'm hungry.\n"
     ]
    }
   ],
   "source": [
    "sentence = \"أنا جائع.\"\n",
    "print(\"Input sentence: {}\".format(sentence))\n",
    "predicted_sentence = translate(sentence)\n",
    "print(\"Output sentence: {}\".format(predicted_sentence))"
   ]
  },
  {
   "cell_type": "code",
   "execution_count": 51,
   "id": "27f0b81e-801c-4bef-b9ea-5de12bf04428",
   "metadata": {
    "execution": {
     "iopub.execute_input": "2025-05-03T04:06:23.593965Z",
     "iopub.status.busy": "2025-05-03T04:06:23.593333Z",
     "iopub.status.idle": "2025-05-03T04:06:24.840196Z",
     "shell.execute_reply": "2025-05-03T04:06:24.839567Z",
     "shell.execute_reply.started": "2025-05-03T04:06:23.593934Z"
    },
    "trusted": true
   },
   "outputs": [
    {
     "name": "stdout",
     "output_type": "stream",
     "text": [
      "Input sentence: أريد كوباً من الماء.\n",
      "Output sentence: I want a glass of water.\n"
     ]
    }
   ],
   "source": [
    "sentence = \"أريد كوباً من الماء.\"\n",
    "print(\"Input sentence: {}\".format(sentence))\n",
    "predicted_sentence = translate(sentence)\n",
    "print(\"Output sentence: {}\".format(predicted_sentence))"
   ]
  },
  {
   "cell_type": "code",
   "execution_count": 53,
   "id": "7d55a24a-c572-4e2a-8746-e0279bb7ed40",
   "metadata": {
    "execution": {
     "iopub.execute_input": "2025-05-03T04:06:35.995853Z",
     "iopub.status.busy": "2025-05-03T04:06:35.995554Z",
     "iopub.status.idle": "2025-05-03T04:06:36.923001Z",
     "shell.execute_reply": "2025-05-03T04:06:36.922367Z",
     "shell.execute_reply.started": "2025-05-03T04:06:35.995830Z"
    },
    "trusted": true
   },
   "outputs": [
    {
     "name": "stdout",
     "output_type": "stream",
     "text": [
      "Input sentence: هل تتحدث الإنجليزية؟\n",
      "Output sentence: Do you speak English?\n"
     ]
    }
   ],
   "source": [
    "sentence = \"هل تتحدث الإنجليزية؟\"\n",
    "print(\"Input sentence: {}\".format(sentence))\n",
    "predicted_sentence = translate(sentence)\n",
    "print(\"Output sentence: {}\".format(predicted_sentence))"
   ]
  }
 ],
 "metadata": {
  "colab": {
   "collapsed_sections": [],
   "machine_shape": "hm",
   "name": "Transformer-NMT-en-es.ipynb",
   "provenance": [
    {
     "file_id": "16JmM4d_Wc3Eh1-iyjkA5_kw8qLDDFhr2",
     "timestamp": 1602519669782
    },
    {
     "file_id": "1i4a26jVRVsAIfAGCe5pnl4l51B6GvjWs",
     "timestamp": 1595454386969
    },
    {
     "file_id": "17dOcF-VlAVBY0vzgqaANGQ4taSNc2Wp6",
     "timestamp": 1571411676663
    }
   ],
   "toc_visible": true
  },
  "kaggle": {
   "accelerator": "nvidiaTeslaT4",
   "dataSources": [],
   "dockerImageVersionId": 31011,
   "isGpuEnabled": true,
   "isInternetEnabled": true,
   "language": "python",
   "sourceType": "notebook"
  },
  "kernelspec": {
   "display_name": "Python 3",
   "language": "python",
   "name": "python3"
  },
  "language_info": {
   "codemirror_mode": {
    "name": "ipython",
    "version": 3
   },
   "file_extension": ".py",
   "mimetype": "text/x-python",
   "name": "python",
   "nbconvert_exporter": "python",
   "pygments_lexer": "ipython3",
   "version": "3.11.11"
  },
  "papermill": {
   "default_parameters": {},
   "duration": 19751.323988,
   "end_time": "2025-04-29T21:46:09.712209",
   "environment_variables": {},
   "exception": null,
   "input_path": "__notebook__.ipynb",
   "output_path": "__notebook__.ipynb",
   "parameters": {},
   "start_time": "2025-04-29T16:16:58.388221",
   "version": "2.6.0"
  }
 },
 "nbformat": 4,
 "nbformat_minor": 5
}
